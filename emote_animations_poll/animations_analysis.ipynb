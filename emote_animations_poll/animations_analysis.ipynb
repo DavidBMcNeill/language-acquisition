{
 "cells": [
  {
   "cell_type": "code",
   "execution_count": 1,
   "metadata": {},
   "outputs": [],
   "source": [
    "import pandas as pd\n",
    "\n",
    "df1 = pd.read_csv('1.csv', usecols=[1,3,4,5,6,7,8,9,10,11,12], dtype={1:str,3:int,4:int,5:int,6:int,7:int,8:int,9:int,10:int,11:int,12:int})\n",
    "df2 = pd.read_csv('2.csv', usecols=[1,3,4,5,6,7,8,9,10,11,12], dtype={1:str,3:int,4:int,5:int,6:int,7:int,8:int,9:int,10:int,11:int,12:int})\n",
    "df3 = pd.read_csv('3.csv', usecols=[1,3,4,5,6,7,8,9,10,11,12], dtype={1:str,3:int,4:int,5:int,6:int,7:int,8:int,9:int,10:int,11:int,12:int})\n",
    "df4 = pd.read_csv('4.csv', usecols=[1,3,4,5,6,7,8,9,10,11,12], dtype={1:str,3:int,4:int,5:int,6:int,7:int,8:int,9:int,10:int,11:int,12:int})\n",
    "df5 = pd.read_csv('5.csv', usecols=[1,3,4,5,6,7,8,9,10,11], dtype={1:str,3:int,4:int,5:int,6:int,7:int,8:int,9:int,10:int,11:int})\n",
    "df6 = pd.read_csv('6.csv', usecols=[1,3,4,5,6,7,8,9,10,11], dtype={1:str,3:int,4:int,5:int,6:int,7:int,8:int,9:int,10:int,11:int})"
   ]
  },
  {
   "cell_type": "code",
   "execution_count": 2,
   "metadata": {},
   "outputs": [
    {
     "data": {
      "text/html": [
       "<div>\n",
       "<style scoped>\n",
       "    .dataframe tbody tr th:only-of-type {\n",
       "        vertical-align: middle;\n",
       "    }\n",
       "\n",
       "    .dataframe tbody tr th {\n",
       "        vertical-align: top;\n",
       "    }\n",
       "\n",
       "    .dataframe thead th {\n",
       "        text-align: right;\n",
       "    }\n",
       "</style>\n",
       "<table border=\"1\" class=\"dataframe\">\n",
       "  <thead>\n",
       "    <tr style=\"text-align: right;\">\n",
       "      <th></th>\n",
       "      <th>Email Address</th>\n",
       "      <th>Question 1</th>\n",
       "      <th>Question 2</th>\n",
       "      <th>Question 3</th>\n",
       "      <th>Question 4</th>\n",
       "      <th>Question 5</th>\n",
       "      <th>Question 6</th>\n",
       "      <th>Question 7</th>\n",
       "      <th>Question 8</th>\n",
       "      <th>Question 9</th>\n",
       "      <th>Question 10</th>\n",
       "    </tr>\n",
       "  </thead>\n",
       "  <tbody>\n",
       "    <tr>\n",
       "      <th>0</th>\n",
       "      <td>alexmussell@u.boisestate.edu</td>\n",
       "      <td>3</td>\n",
       "      <td>4</td>\n",
       "      <td>5</td>\n",
       "      <td>3</td>\n",
       "      <td>4</td>\n",
       "      <td>2</td>\n",
       "      <td>2</td>\n",
       "      <td>3</td>\n",
       "      <td>4</td>\n",
       "      <td>3</td>\n",
       "    </tr>\n",
       "    <tr>\n",
       "      <th>1</th>\n",
       "      <td>carsonsmith@u.boisestate.edu</td>\n",
       "      <td>4</td>\n",
       "      <td>2</td>\n",
       "      <td>3</td>\n",
       "      <td>3</td>\n",
       "      <td>4</td>\n",
       "      <td>2</td>\n",
       "      <td>2</td>\n",
       "      <td>2</td>\n",
       "      <td>4</td>\n",
       "      <td>1</td>\n",
       "    </tr>\n",
       "    <tr>\n",
       "      <th>2</th>\n",
       "      <td>mckenziesteenson@u.boisestate.edu</td>\n",
       "      <td>4</td>\n",
       "      <td>3</td>\n",
       "      <td>4</td>\n",
       "      <td>5</td>\n",
       "      <td>4</td>\n",
       "      <td>4</td>\n",
       "      <td>3</td>\n",
       "      <td>3</td>\n",
       "      <td>4</td>\n",
       "      <td>3</td>\n",
       "    </tr>\n",
       "    <tr>\n",
       "      <th>3</th>\n",
       "      <td>jakecarns@u.boisestate.edu</td>\n",
       "      <td>2</td>\n",
       "      <td>3</td>\n",
       "      <td>4</td>\n",
       "      <td>4</td>\n",
       "      <td>5</td>\n",
       "      <td>1</td>\n",
       "      <td>2</td>\n",
       "      <td>2</td>\n",
       "      <td>5</td>\n",
       "      <td>1</td>\n",
       "    </tr>\n",
       "    <tr>\n",
       "      <th>4</th>\n",
       "      <td>aprajitashukla@u.boisestate.edu</td>\n",
       "      <td>3</td>\n",
       "      <td>5</td>\n",
       "      <td>3</td>\n",
       "      <td>2</td>\n",
       "      <td>3</td>\n",
       "      <td>3</td>\n",
       "      <td>5</td>\n",
       "      <td>5</td>\n",
       "      <td>3</td>\n",
       "      <td>1</td>\n",
       "    </tr>\n",
       "  </tbody>\n",
       "</table>\n",
       "</div>"
      ],
      "text/plain": [
       "                       Email Address  Question 1  Question 2   Question 3  \\\n",
       "0       alexmussell@u.boisestate.edu           3            4           5   \n",
       "1       carsonsmith@u.boisestate.edu           4            2           3   \n",
       "2  mckenziesteenson@u.boisestate.edu           4            3           4   \n",
       "3         jakecarns@u.boisestate.edu           2            3           4   \n",
       "4    aprajitashukla@u.boisestate.edu           3            5           3   \n",
       "\n",
       "   Question 4  Question 5  Question 6  Question 7  Question 8  Question 9  \\\n",
       "0           3           4           2           2           3           4   \n",
       "1           3           4           2           2           2           4   \n",
       "2           5           4           4           3           3           4   \n",
       "3           4           5           1           2           2           5   \n",
       "4           2           3           3           5           5           3   \n",
       "\n",
       "   Question 10  \n",
       "0            3  \n",
       "1            1  \n",
       "2            3  \n",
       "3            1  \n",
       "4            1  "
      ]
     },
     "execution_count": 2,
     "metadata": {},
     "output_type": "execute_result"
    }
   ],
   "source": [
    "df1"
   ]
  },
  {
   "cell_type": "code",
   "execution_count": 3,
   "metadata": {},
   "outputs": [],
   "source": [
    "data = [df1, df2, df3, df4, df5, df6]\n",
    "understanding, confusion = [],[]\n",
    "\n",
    "for i in range(len(data)):\n",
    "    d = data[i]\n",
    "    best_anims = d.sum(axis=0)[1:]\n",
    "\n",
    "    for question, total in enumerate(best_anims):\n",
    "        if total <= 10:\n",
    "            understanding.append((i, question+1,total))\n",
    "        elif total >=  20:\n",
    "            confusion.append((i, question+1, total))"
   ]
  },
  {
   "cell_type": "code",
   "execution_count": 4,
   "metadata": {},
   "outputs": [
    {
     "data": {
      "text/plain": [
       "13"
      ]
     },
     "execution_count": 4,
     "metadata": {},
     "output_type": "execute_result"
    }
   ],
   "source": [
    "#(query form #, question #, total likert points)\n",
    "len(understanding)"
   ]
  },
  {
   "cell_type": "code",
   "execution_count": 5,
   "metadata": {},
   "outputs": [
    {
     "data": {
      "text/plain": [
       "11"
      ]
     },
     "execution_count": 5,
     "metadata": {},
     "output_type": "execute_result"
    }
   ],
   "source": [
    "len(confusion)"
   ]
  },
  {
   "cell_type": "code",
   "execution_count": 15,
   "metadata": {},
   "outputs": [],
   "source": [
    "srtd_confusion = sorted(confusion, key=lambda x: x[2], reverse=True)"
   ]
  },
  {
   "cell_type": "code",
   "execution_count": 16,
   "metadata": {},
   "outputs": [],
   "source": [
    "srtd_understanding = sorted(understanding, key=lambda x: x[2], reverse=False)"
   ]
  },
  {
   "cell_type": "code",
   "execution_count": 39,
   "metadata": {},
   "outputs": [],
   "source": [
    "confusion_dict = {}\n",
    "\n",
    "for thing in srtd_confusion:\n",
    "    batch_num = thing[0]\n",
    "    video_num = thing[1]\n",
    "    rating = thing[2]\n",
    "    confusion_dict[mTurk_labels[batch_num][video_num]] = rating\n",
    "    \n",
    "understanding_dict = {}\n",
    "\n",
    "for thing in srtd_understanding:\n",
    "    batch_num = thing[0]\n",
    "    video_num = thing[1]\n",
    "    rating = thing[2]\n",
    "    understanding_dict[mTurk_labels[batch_num][video_num]] = rating"
   ]
  },
  {
   "cell_type": "code",
   "execution_count": 40,
   "metadata": {},
   "outputs": [
    {
     "data": {
      "text/plain": [
       "{'9DAaXwinFdg': 24,\n",
       " '9gwXd4VCK4o': 24,\n",
       " '6fE-4vv7g6U': 24,\n",
       " 'MX6RrSHrv6E': 23,\n",
       " 'uCnRvN8LChg': 23,\n",
       " '43lIwWW0a6w': 22,\n",
       " 'Mvy-MU80z48': 21,\n",
       " 'GSNeqfQMN7Q': 20,\n",
       " 'fpliwsnS5BA': 20,\n",
       " 'xmf7RGlJanM': 20,\n",
       " 'wW6irtD-vTs': 20}"
      ]
     },
     "execution_count": 40,
     "metadata": {},
     "output_type": "execute_result"
    }
   ],
   "source": [
    "confusion_dict"
   ]
  },
  {
   "cell_type": "code",
   "execution_count": 41,
   "metadata": {},
   "outputs": [
    {
     "data": {
      "text/plain": [
       "{'aBov1khHOMw': 6,\n",
       " 'nGGheI60fPM': 7,\n",
       " 'ILgKYsZfd2U': 8,\n",
       " 'QliwkU0oAdU': 8,\n",
       " '07rmab3ic70': 8,\n",
       " 'BcTx_6Xhogs': 9,\n",
       " 'DdfScL8o2qs': 9,\n",
       " 'Y9d_LGO7IWE': 9,\n",
       " 'CSmmqCly6P8': 9,\n",
       " '5tg4OFo7KOk': 10,\n",
       " 'o4-BzbvJXws': 10,\n",
       " 'Rivzzp9UhqE': 10,\n",
       " 'B_I9y_tb0jY': 10}"
      ]
     },
     "execution_count": 41,
     "metadata": {},
     "output_type": "execute_result"
    }
   ],
   "source": [
    "understanding_dict"
   ]
  },
  {
   "cell_type": "code",
   "execution_count": 42,
   "metadata": {},
   "outputs": [],
   "source": [
    "match_understanding = [val for val in understanding_dict if val in mturk_labeled_understanding]\n",
    "match_confusion = [val for val in confusion_dict if val in mturk_labeled_confusion]"
   ]
  },
  {
   "cell_type": "code",
   "execution_count": 43,
   "metadata": {},
   "outputs": [
    {
     "data": {
      "text/plain": [
       "(11, 11)"
      ]
     },
     "execution_count": 43,
     "metadata": {},
     "output_type": "execute_result"
    }
   ],
   "source": [
    "len(match_understanding), len(match_confusion)"
   ]
  },
  {
   "cell_type": "code",
   "execution_count": 45,
   "metadata": {},
   "outputs": [],
   "source": [
    "mtch_understanding_dict = {}\n",
    "\n",
    "for i in match_understanding:\n",
    "    mtch_understanding_dict[i] = understanding_dict[i]\n",
    "    \n",
    "mtch_confusion_dict = {}\n",
    "\n",
    "for i in match_confusion:\n",
    "    mtch_confusion_dict[i] = confusion_dict[i]"
   ]
  },
  {
   "cell_type": "code",
   "execution_count": 50,
   "metadata": {},
   "outputs": [
    {
     "data": {
      "text/plain": [
       "{'aBov1khHOMw': 6,\n",
       " 'nGGheI60fPM': 7,\n",
       " 'ILgKYsZfd2U': 8,\n",
       " 'QliwkU0oAdU': 8,\n",
       " '07rmab3ic70': 8,\n",
       " 'BcTx_6Xhogs': 9,\n",
       " 'DdfScL8o2qs': 9,\n",
       " 'Y9d_LGO7IWE': 9,\n",
       " 'CSmmqCly6P8': 9,\n",
       " '5tg4OFo7KOk': 10,\n",
       " 'o4-BzbvJXws': 10,\n",
       " 'Rivzzp9UhqE': 10,\n",
       " 'B_I9y_tb0jY': 10}"
      ]
     },
     "execution_count": 50,
     "metadata": {},
     "output_type": "execute_result"
    }
   ],
   "source": [
    "understanding_dict"
   ]
  },
  {
   "cell_type": "code",
   "execution_count": 51,
   "metadata": {},
   "outputs": [
    {
     "data": {
      "text/plain": [
       "{'9DAaXwinFdg': 24,\n",
       " '9gwXd4VCK4o': 24,\n",
       " '6fE-4vv7g6U': 24,\n",
       " 'MX6RrSHrv6E': 23,\n",
       " 'uCnRvN8LChg': 23,\n",
       " '43lIwWW0a6w': 22,\n",
       " 'Mvy-MU80z48': 21,\n",
       " 'GSNeqfQMN7Q': 20,\n",
       " 'fpliwsnS5BA': 20,\n",
       " 'xmf7RGlJanM': 20,\n",
       " 'wW6irtD-vTs': 20}"
      ]
     },
     "execution_count": 51,
     "metadata": {},
     "output_type": "execute_result"
    }
   ],
   "source": [
    "mtch_confusion_dict"
   ]
  },
  {
   "cell_type": "code",
   "execution_count": 49,
   "metadata": {},
   "outputs": [
    {
     "data": {
      "text/plain": [
       "{'aBov1khHOMw': 6,\n",
       " 'nGGheI60fPM': 7,\n",
       " 'ILgKYsZfd2U': 8,\n",
       " 'QliwkU0oAdU': 8,\n",
       " '07rmab3ic70': 8,\n",
       " 'Y9d_LGO7IWE': 9,\n",
       " 'CSmmqCly6P8': 9,\n",
       " '5tg4OFo7KOk': 10,\n",
       " 'o4-BzbvJXws': 10,\n",
       " 'Rivzzp9UhqE': 10,\n",
       " 'B_I9y_tb0jY': 10}"
      ]
     },
     "execution_count": 49,
     "metadata": {},
     "output_type": "execute_result"
    }
   ],
   "source": [
    "mtch_understanding_dict"
   ]
  },
  {
   "cell_type": "code",
   "execution_count": 12,
   "metadata": {},
   "outputs": [],
   "source": [
    "mTurk_labels= { 0: {1: 'OHZYeOCiVCI',\n",
    "                    2: 'UEpOmOVFqiM',\n",
    "                    3: 'bZy8IbBqviw',\n",
    "                    4: 'AEP-9ove6Ds',\n",
    "                    5: 'GSNeqfQMN7Q',\n",
    "                    6: 'quAOpMWSYqs',\n",
    "                    7: '0ZzgS19W4SQ',\n",
    "                    8: 'qgWuEtRbICw',\n",
    "                    9: 'fpliwsnS5BA',\n",
    "                    10: 'BcTx_6Xhogs'},\n",
    "               1: { 1: 'MX6RrSHrv6E',\n",
    "                   2: 'oGRbBOtPQas',\n",
    "                   3: '9DAaXwinFdg',\n",
    "                   4: '9gwXd4VCK4o',\n",
    "                   5: 'uCnRvN8LChg',\n",
    "                   6: 'urjUmTnHpGk',\n",
    "                   7: 'CTiCb9P5S6E',\n",
    "                   8: 'xmf7RGlJanM',\n",
    "                   9: '6fE-4vv7g6U',\n",
    "                   10: 'wW6irtD-vTs'},\n",
    "               2: { 1: '43lIwWW0a6w',\n",
    "                   2: '77DmrZIeQz4',\n",
    "                   3: 'zXNzux2Wgdg',\n",
    "                   4: '44587vnk4JE',\n",
    "                   5: 'DdfScL8o2qs',\n",
    "                   6: 'sb6M9Fo3ZZA',\n",
    "                   7: 'QimtdFUdWhE',\n",
    "                   8: 'ybOHvJsDtzw',\n",
    "                   9: 'atfvVis-pW0',\n",
    "                   10: 'C1QupqMOeA8'},\n",
    "               3: { 1: '5L9POPPwhM4',\n",
    "                   2: 'UQosHJRqvaQ',\n",
    "                   3: 'Mvy-MU80z48',\n",
    "                   4: 'nGGheI60fPM',\n",
    "                   5: 'qjZiUAlqp6M',\n",
    "                   6: '33KQWfx5U7c',\n",
    "                   7: 'AvHGOtbeBoQ',\n",
    "                   8: '5tg4OFo7KOk',\n",
    "                   9: '6NiJlyLtuLY',\n",
    "                   10: 'o9DqnoMHTnA'},\n",
    "               4: { 1: 'o4-BzbvJXws',\n",
    "                   2: 'uzQXr45Leu0',\n",
    "                   3: 'ILgKYsZfd2U',\n",
    "                   4: 'Y9d_LGO7IWE',\n",
    "                   5: 'aBov1khHOMw',\n",
    "                   6: 'NI6qmrWU4QQ',\n",
    "                   7: 'Rk4Bt6qLJaI',\n",
    "                   8: 'rxZV90_UN5g',\n",
    "                   9: 'd03icXpIGas'},\n",
    "               5: { 1: 'Rivzzp9UhqE',\n",
    "                   2: 'CeVD5RoVqcY',\n",
    "                   3: '6dOvApWjaNM',\n",
    "                   4: '2jOQe6LIcnw',\n",
    "                   5: 'CSmmqCly6P8',\n",
    "                   6: 'QliwkU0oAdU',\n",
    "                   7: 'MOscZNnOJbE',\n",
    "                   8: '07rmab3ic70',\n",
    "                   9: 'B_I9y_tb0jY'}}"
   ]
  },
  {
   "cell_type": "code",
   "execution_count": null,
   "metadata": {},
   "outputs": [],
   "source": [
    "best_slim_confusion =  [(1, 9, 15),\n",
    "                        (1, 10, 15),\n",
    "                        (1, 3, 15),\n",
    "                        (1, 4, 15),\n",
    "                        (1, 5, 15),]\n",
    "    \n",
    "best_slim_understanding = [(5, 9, 3), \n",
    "                           (3, 4, 3),\n",
    "                           (4, 3, 4),\n",
    "                           (4, 5, 4),]"
   ]
  },
  {
   "cell_type": "code",
   "execution_count": 91,
   "metadata": {},
   "outputs": [
    {
     "data": {
      "text/plain": [
       "(10, 12)"
      ]
     },
     "execution_count": 91,
     "metadata": {},
     "output_type": "execute_result"
    }
   ],
   "source": [
    "len(match_understanding), len(match_confusion)"
   ]
  },
  {
   "cell_type": "markdown",
   "metadata": {},
   "source": [
    "# Embed codes\n",
    "(taken from valence-affect/batch2/both-batch-analysis.ipynb, cell [118])"
   ]
  },
  {
   "cell_type": "code",
   "execution_count": 34,
   "metadata": {},
   "outputs": [],
   "source": [
    "# len = 33\n",
    "mturk_labeled_confusion = ['OHZYeOCiVCI',\n",
    " 'UEpOmOVFqiM',\n",
    " 'bZy8IbBqviw',\n",
    " 'AEP-9ove6Ds',\n",
    " 'GSNeqfQMN7Q',\n",
    " 'quAOpMWSYqs',\n",
    " '0ZzgS19W4SQ',\n",
    " 'qgWuEtRbICw',\n",
    " 'fpliwsnS5BA',\n",
    " 'BcTx_6Xhogs',\n",
    " 'MX6RrSHrv6E',\n",
    " 'oGRbBOtPQas',\n",
    " '9DAaXwinFdg',\n",
    " '9gwXd4VCK4o',\n",
    " 'uCnRvN8LChg',\n",
    " 'urjUmTnHpGk',\n",
    " 'CTiCb9P5S6E',\n",
    " 'xmf7RGlJanM',\n",
    " '6fE-4vv7g6U',\n",
    " 'wW6irtD-vTs',\n",
    " '43lIwWW0a6w',\n",
    " '77DmrZIeQz4',\n",
    " 'zXNzux2Wgdg',\n",
    " '44587vnk4JE',\n",
    " 'DdfScL8o2qs',\n",
    " 'sb6M9Fo3ZZA',\n",
    " 'QimtdFUdWhE',\n",
    " 'ybOHvJsDtzw',\n",
    " 'atfvVis-pW0',\n",
    " 'C1QupqMOeA8',\n",
    " '5L9POPPwhM4',\n",
    " 'UQosHJRqvaQ',\n",
    " 'Mvy-MU80z48']"
   ]
  },
  {
   "cell_type": "code",
   "execution_count": 35,
   "metadata": {},
   "outputs": [],
   "source": [
    "# len = 25\n",
    "mturk_labeled_understanding = ['nGGheI60fPM',\n",
    " 'qjZiUAlqp6M',\n",
    " '33KQWfx5U7c',\n",
    " 'AvHGOtbeBoQ',\n",
    " '5tg4OFo7KOk',\n",
    " '6NiJlyLtuLY',\n",
    " 'o9DqnoMHTnA',\n",
    " 'o4-BzbvJXws',\n",
    " 'uzQXr45Leu0',\n",
    " 'ILgKYsZfd2U',\n",
    " 'Y9d_LGO7IWE',\n",
    " 'aBov1khHOMw',\n",
    " 'NI6qmrWU4QQ',\n",
    " 'Rk4Bt6qLJaI',\n",
    " 'rxZV90_UN5g',\n",
    " 'd03icXpIGas',\n",
    " 'Rivzzp9UhqE',\n",
    " 'CeVD5RoVqcY',\n",
    " '6dOvApWjaNM',\n",
    " '2jOQe6LIcnw',\n",
    " 'CSmmqCly6P8',\n",
    " 'QliwkU0oAdU',\n",
    " 'MOscZNnOJbE',\n",
    " '07rmab3ic70',\n",
    " 'B_I9y_tb0jY']"
   ]
  },
  {
   "cell_type": "code",
   "execution_count": null,
   "metadata": {},
   "outputs": [],
   "source": []
  }
 ],
 "metadata": {
  "kernelspec": {
   "display_name": "Python 3",
   "language": "python",
   "name": "python3"
  },
  "language_info": {
   "codemirror_mode": {
    "name": "ipython",
    "version": 3
   },
   "file_extension": ".py",
   "mimetype": "text/x-python",
   "name": "python",
   "nbconvert_exporter": "python",
   "pygments_lexer": "ipython3",
   "version": "3.7.4"
  }
 },
 "nbformat": 4,
 "nbformat_minor": 2
}

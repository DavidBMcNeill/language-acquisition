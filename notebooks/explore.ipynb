{
 "cells": [
  {
   "cell_type": "code",
   "execution_count": 1,
   "metadata": {},
   "outputs": [
    {
     "ename": "ModuleNotFoundError",
     "evalue": "No module named 'matplotlib'",
     "output_type": "error",
     "traceback": [
      "\u001b[0;31m---------------------------------------------------------------------------\u001b[0m",
      "\u001b[0;31mModuleNotFoundError\u001b[0m                       Traceback (most recent call last)",
      "\u001b[0;32m<ipython-input-1-66a4f471f0bd>\u001b[0m in \u001b[0;36m<module>\u001b[0;34m\u001b[0m\n\u001b[0;32m----> 1\u001b[0;31m \u001b[0;32mimport\u001b[0m \u001b[0mmatplotlib\u001b[0m\u001b[0;34m\u001b[0m\u001b[0;34m\u001b[0m\u001b[0m\n\u001b[0m\u001b[1;32m      2\u001b[0m \u001b[0mmatplotlib\u001b[0m\u001b[0;34m.\u001b[0m\u001b[0muse\u001b[0m\u001b[0;34m(\u001b[0m\u001b[0;34m\"TkAgg\"\u001b[0m\u001b[0;34m)\u001b[0m \u001b[0;31m#Makes imshow work on mac\u001b[0m\u001b[0;34m\u001b[0m\u001b[0;34m\u001b[0m\u001b[0m\n\u001b[1;32m      3\u001b[0m \u001b[0;32mfrom\u001b[0m \u001b[0mmatplotlib\u001b[0m \u001b[0;32mimport\u001b[0m \u001b[0mpyplot\u001b[0m \u001b[0;32mas\u001b[0m \u001b[0mplt\u001b[0m\u001b[0;34m\u001b[0m\u001b[0;34m\u001b[0m\u001b[0m\n\u001b[1;32m      4\u001b[0m \u001b[0;32mfrom\u001b[0m \u001b[0mModel\u001b[0m \u001b[0;32mimport\u001b[0m \u001b[0mModel\u001b[0m\u001b[0;34m,\u001b[0m \u001b[0mdraw_boxes\u001b[0m\u001b[0;34m\u001b[0m\u001b[0;34m\u001b[0m\u001b[0m\n\u001b[1;32m      5\u001b[0m \u001b[0;32mimport\u001b[0m \u001b[0mcozmo\u001b[0m\u001b[0;34m\u001b[0m\u001b[0;34m\u001b[0m\u001b[0m\n",
      "\u001b[0;31mModuleNotFoundError\u001b[0m: No module named 'matplotlib'"
     ]
    }
   ],
   "source": [
    "import matplotlib\n",
    "matplotlib.use(\"TkAgg\") #Makes imshow work on mac\n",
    "from matplotlib import pyplot as plt\n",
    "from Model import Model, draw_boxes\n",
    "import cozmo\n",
    "import queue\n",
    "import time\n",
    "import threading\n",
    "import numpy as np\n",
    "import sys\n",
    "import pandas as pd\n",
    "import base64\n",
    "import CS481Dataset as CS\n",
    "\n",
    "import datetime\n",
    "import csv\n",
    "import PIL\n",
    "from PIL import Image\n",
    "\n",
    "import LanguageModel as LM\n",
    "import pickle"
   ]
  },
  {
   "cell_type": "code",
   "execution_count": 2,
   "metadata": {},
   "outputs": [],
   "source": [
    "def detectImages():\n",
    "    global data\n",
    "    confidence = 0 # imgCount\n",
    "    print('Detect Images started') # 'Detect Images started'\n",
    "    \n",
    "    ds = []\n",
    "    \n",
    "    while(True):\n",
    "        if(not imageQueue.empty()):\n",
    "            try:\n",
    "\n",
    "                pilImg = imageQueue.get()\n",
    "                box, imgResized = model.object_detect(pilImg.copy())\n",
    "                cleanImg = imgResized.copy();\n",
    "                draw_boxes(box, imgResized, (model.size, model.size))\n",
    "\n",
    "                imgWithBox = np.array(imgResized) \n",
    "                imgWithBox = imgWithBox[:, :, ::-1].copy()\n",
    "                box = box[0]\n",
    "                formattedBox = (box[1], box[0], box[3], box[2]) # coordinates need to be corrected for crop\n",
    "                imgBox = cleanImg.crop(formattedBox)\n",
    "                plt.imshow(imgBox)\n",
    "                plt.pause(0.001) # imshow needs time to plot the image. Need this to display the image\n",
    "\n",
    "                print('???')\n",
    "                label = input()\n",
    "#                 if response.strip() == 'y':\n",
    "#                 CS481Dataset.encodeAndSaveImage(data, pilImg, label, formattedBox) \n",
    "                \n",
    "                words = label.split()\n",
    "    \n",
    "                imgNumpy = np.asarray(pilImg)\n",
    "                imgStr = base64.b64encode(imgNumpy)\n",
    "                imgStr = str(imgStr)[2:-1]\n",
    "              \n",
    "                dimensions = list(pilImg.size)[::-1] + [3]\n",
    "                time = str(datetime.datetime.now()) #[10:]\n",
    "                \n",
    "                for w in words:\n",
    "                    row = (imgStr, w, dimensions, formattedBox, time)\n",
    "                    ds.append(row)\n",
    "    \n",
    "                confidence+=1\n",
    "                print(label + '\\n')\n",
    "                print('img count: ' + str(confidence) + '\\n')\n",
    "                            \n",
    "                print('save?')\n",
    "                response = input()\n",
    "                if response.strip() == 'y':\n",
    "                    \n",
    "                    datafr = pd.DataFrame(ds, columns=['img','label','dimensions','box_coord','time'])\n",
    "                    datafr.to_csv(dataset, index=False)\n",
    "#                     data.to_csv(dataset, index=False)\n",
    "                    print('saved' + '\\n')\n",
    "                else:\n",
    "                    continue\n",
    "\n",
    "            except queue.Empty:\n",
    "                pass"
   ]
  },
  {
   "cell_type": "code",
   "execution_count": 3,
   "metadata": {},
   "outputs": [],
   "source": [
    "def encode_save_image(df: pd.DataFrame, img: PIL.Image, label: str, boundingBox):\n",
    "    imgNumpy = np.asarray(img)\n",
    "    imgStr = base64.b64encode(imgNumpy)\n",
    "\n",
    "    time = str(datetime.datetime.now())[10:]\n",
    "    \n",
    "    df.loc[len(df)] = [str(imgStr)[2:-1], label, list(img.size)[::-1] + [3], boundingBox, time]"
   ]
  },
  {
   "cell_type": "code",
   "execution_count": 4,
   "metadata": {},
   "outputs": [],
   "source": [
    "def handle_image(evt, obj=None, tap_count=None,  **kwargs):\n",
    "    try:\n",
    "        if(imageQueue.empty()):\n",
    "            imageQueue.put_nowait(evt.image)\n",
    "    except queue.Full:\n",
    "        pass"
   ]
  },
  {
   "cell_type": "code",
   "execution_count": 5,
   "metadata": {},
   "outputs": [],
   "source": [
    "def cozmo_program(robot: cozmo.robot.Robot):\n",
    "    robot.camera.color_image_enabled = True\n",
    "    robot.add_event_handler(cozmo.camera.EvtNewRawCameraImage, handle_image)\n",
    "    robot.set_lift_height(1.0)\n",
    "    print(\"Added event handler\")\n",
    "    while True:\n",
    "        time.sleep(0.1)"
   ]
  },
  {
   "cell_type": "code",
   "execution_count": 7,
   "metadata": {},
   "outputs": [
    {
     "data": {
      "text/html": [
       "<div>\n",
       "<style scoped>\n",
       "    .dataframe tbody tr th:only-of-type {\n",
       "        vertical-align: middle;\n",
       "    }\n",
       "\n",
       "    .dataframe tbody tr th {\n",
       "        vertical-align: top;\n",
       "    }\n",
       "\n",
       "    .dataframe thead th {\n",
       "        text-align: right;\n",
       "    }\n",
       "</style>\n",
       "<table border=\"1\" class=\"dataframe\">\n",
       "  <thead>\n",
       "    <tr style=\"text-align: right;\">\n",
       "      <th></th>\n",
       "      <th>img</th>\n",
       "      <th>label</th>\n",
       "      <th>dimensions</th>\n",
       "      <th>box_coord</th>\n",
       "      <th>time</th>\n",
       "    </tr>\n",
       "  </thead>\n",
       "  <tbody>\n",
       "    <tr>\n",
       "      <th>0</th>\n",
       "      <td>DAwMDAwMDQ0NDg4ODg4ODw8PEBAQEBAQDAwMDQ0NDw8PEB...</td>\n",
       "      <td>blocks</td>\n",
       "      <td>[240, 320, 3]</td>\n",
       "      <td>(0.08415357, 36.06744, 211.52437, 196.10556)</td>\n",
       "      <td>2019-07-30 16:01:34.128181</td>\n",
       "    </tr>\n",
       "    <tr>\n",
       "      <th>1</th>\n",
       "      <td>DAwMDAwMDQ0NDg4ODg4ODw8PEBAQEBAQDg4ODg4ODg4ODg...</td>\n",
       "      <td>black and white</td>\n",
       "      <td>[240, 320, 3]</td>\n",
       "      <td>(11.060257, 27.61384, 229.36584, 195.69952)</td>\n",
       "      <td>2019-07-30 16:01:42.700762</td>\n",
       "    </tr>\n",
       "    <tr>\n",
       "      <th>2</th>\n",
       "      <td>Cw0ICw0ICw0ICw0IDA0IDA0IDwsIDwsIEAsIEAsIEwkIEw...</td>\n",
       "      <td>purple</td>\n",
       "      <td>[240, 320, 3]</td>\n",
       "      <td>(53.525486, 51.073635, 204.68407, 151.20416)</td>\n",
       "      <td>2019-07-30 16:02:02.150410</td>\n",
       "    </tr>\n",
       "    <tr>\n",
       "      <th>3</th>\n",
       "      <td>Dg8KDg8KDg8KDg8KDw4KDw4KDw4KDw4KEQ0KEQ0KEQ0KEQ...</td>\n",
       "      <td>dark blue Z</td>\n",
       "      <td>[240, 320, 3]</td>\n",
       "      <td>(55.54578, 41.274704, 209.2253, 142.09975)</td>\n",
       "      <td>2019-07-30 16:02:09.358059</td>\n",
       "    </tr>\n",
       "  </tbody>\n",
       "</table>\n",
       "</div>"
      ],
      "text/plain": [
       "                                                 img            label  \\\n",
       "0  DAwMDAwMDQ0NDg4ODg4ODw8PEBAQEBAQDAwMDQ0NDw8PEB...           blocks   \n",
       "1  DAwMDAwMDQ0NDg4ODg4ODw8PEBAQEBAQDg4ODg4ODg4ODg...  black and white   \n",
       "2  Cw0ICw0ICw0ICw0IDA0IDA0IDwsIDwsIEAsIEAsIEwkIEw...           purple   \n",
       "3  Dg8KDg8KDg8KDg8KDw4KDw4KDw4KDw4KEQ0KEQ0KEQ0KEQ...      dark blue Z   \n",
       "\n",
       "      dimensions                                     box_coord  \\\n",
       "0  [240, 320, 3]  (0.08415357, 36.06744, 211.52437, 196.10556)   \n",
       "1  [240, 320, 3]   (11.060257, 27.61384, 229.36584, 195.69952)   \n",
       "2  [240, 320, 3]  (53.525486, 51.073635, 204.68407, 151.20416)   \n",
       "3  [240, 320, 3]    (55.54578, 41.274704, 209.2253, 142.09975)   \n",
       "\n",
       "                         time  \n",
       "0  2019-07-30 16:01:34.128181  \n",
       "1  2019-07-30 16:01:42.700762  \n",
       "2  2019-07-30 16:02:02.150410  \n",
       "3  2019-07-30 16:02:09.358059  "
      ]
     },
     "execution_count": 7,
     "metadata": {},
     "output_type": "execute_result"
    }
   ],
   "source": [
    "model = Model(path='../f18/data/coco2014', jpegs='../f18/train2014', bb_csv='../f18/data/coco2014/tmp/bb.csv')\n",
    "imageQueue = queue.Queue(maxsize=1)\n",
    "\n",
    "# date = str(datetime.datetime.now())[:10]\n",
    "# dataset = 'dataset.csv'\n",
    "dataset = 'explore_history.csv'\n",
    "\n",
    "# row = ['img','label','dimensions','time']\n",
    "# with open(dataset, 'w') as writeFile:\n",
    "#     writer = csv.writer(writeFile)\n",
    "#     writer.writerow(row)\n",
    "\n",
    "# data = pd.DataFrame({'img':[''],\n",
    "#                   'label':[''],\n",
    "#                   'dimensions':[''],\n",
    "#                      'box_coord':[''],\n",
    "#                   'time':['']})\n",
    "\n",
    "data = pd.read_csv(dataset)\n",
    "data.head()"
   ]
  },
  {
   "cell_type": "code",
   "execution_count": 8,
   "metadata": {
    "scrolled": true
   },
   "outputs": [
    {
     "name": "stdout",
     "output_type": "stream",
     "text": [
      "Detect Images started\n"
     ]
    },
    {
     "name": "stderr",
     "output_type": "stream",
     "text": [
      "2019-07-30 16:53:48,547 cozmo.general INFO     App connection established. sdk_version=1.4.10 cozmoclad_version=3.4.0 app_build_version=00003.00004.00000\n",
      "2019-07-30 16:53:48,605 cozmo.general INFO     Found robot id=1\n",
      "2019-07-30 16:53:48,886 cozmo.general INFO     Connected to Android device serial=03160355293b2004\n",
      "2019-07-30 16:53:48,944 cozmo.general INFO     Robot id=1 serial=024086a7 initialized OK\n",
      "Exception in Tkinter callback\n",
      "/home/david/GIT/cs481-senior-design/s19/Model.py:87: DeprecationWarning: `imsave` is deprecated!\n",
      "`imsave` is deprecated in SciPy 1.0.0, and will be removed in 1.2.0.\n",
      "Use ``imageio.imwrite`` instead.\n",
      "  scipy.misc.imsave(tempFile, img_resized)\n",
      "/home/david/anaconda3/envs/oldfastai/lib/python3.6/site-packages/scipy/misc/pilutil.py:217: DeprecationWarning: `toimage` is deprecated!\n",
      "`toimage` is deprecated in SciPy 1.0.0, and will be removed in 1.2.0.\n",
      "Use Pillow's ``Image.fromarray`` directly instead.\n",
      "  im = toimage(arr, channel_axis=2)\n",
      "/home/david/anaconda3/envs/oldfastai/lib/python3.6/site-packages/scipy/misc/pilutil.py:381: DeprecationWarning: `bytescale` is deprecated!\n",
      "`bytescale` is deprecated in SciPy 1.0.0, and will be removed in 1.2.0.\n",
      "  bytedata = bytescale(data, high=high, low=low, cmin=cmin, cmax=cmax)\n",
      "Traceback (most recent call last):\n",
      "  File \"/home/david/anaconda3/envs/oldfastai/lib/python3.6/tkinter/__init__.py\", line 1705, in __call__\n",
      "    return self.func(*args)\n",
      "  File \"/home/david/anaconda3/envs/oldfastai/lib/python3.6/tkinter/__init__.py\", line 749, in callit\n",
      "    func(*args)\n",
      "  File \"/home/david/anaconda3/envs/oldfastai/lib/python3.6/site-packages/cozmo/tkview.py\", line 164, in _repeat_draw_frame\n",
      "    self._draw_frame()\n",
      "  File \"/home/david/anaconda3/envs/oldfastai/lib/python3.6/site-packages/cozmo/tkview.py\", line 158, in _draw_frame\n",
      "    self.label.configure(image=photoImage)\n",
      "  File \"/home/david/anaconda3/envs/oldfastai/lib/python3.6/tkinter/__init__.py\", line 1485, in configure\n",
      "    return self._configure('configure', cnf, kw)\n",
      "  File \"/home/david/anaconda3/envs/oldfastai/lib/python3.6/tkinter/__init__.py\", line 1476, in _configure\n",
      "    self.tk.call(_flatten((self._w, cmd)) + self._options(cnf))\n",
      "_tkinter.TclError: image \"pyimage1\" doesn't exist\n"
     ]
    },
    {
     "name": "stdout",
     "output_type": "stream",
     "text": [
      "Added event handler\n",
      "???\n",
      "skip\n",
      "skip\n",
      "\n",
      "img count: 1\n",
      "\n",
      "save?\n",
      "n\n",
      "???\n",
      "skip\n",
      "skip\n",
      "\n",
      "img count: 2\n",
      "\n",
      "save?\n",
      "n\n",
      "???\n",
      "blue Z\n",
      "blue Z\n",
      "\n",
      "img count: 3\n",
      "\n",
      "save?\n",
      "y\n",
      "saved\n",
      "\n",
      "???\n"
     ]
    },
    {
     "name": "stderr",
     "output_type": "stream",
     "text": [
      "2019-07-30 16:54:25,515 cozmo.general INFO     Shutting down connection\n",
      "2019-07-30 16:54:25,517 cozmo.general INFO     Android serial=03160355293b2004 disconnected.\n",
      "2019-07-30 16:54:25,519 cozmo.general INFO     Exit requested by user\n"
     ]
    }
   ],
   "source": [
    "threading.Thread(target=detectImages).start()\n",
    "\n",
    "cozmo.run_program(cozmo_program, use_viewer=True)"
   ]
  },
  {
   "cell_type": "markdown",
   "metadata": {},
   "source": [
    "## Build Language Model\n",
    "\n",
    "### ... append to Language Model???"
   ]
  },
  {
   "cell_type": "code",
   "execution_count": 2,
   "metadata": {},
   "outputs": [],
   "source": [
    "# datafile = 'dataset.csv'\n",
    "datafile = 'explore_history.csv'"
   ]
  },
  {
   "cell_type": "code",
   "execution_count": 4,
   "metadata": {},
   "outputs": [
    {
     "data": {
      "text/plain": [
       "'explore_history.csv'"
      ]
     },
     "execution_count": 4,
     "metadata": {},
     "output_type": "execute_result"
    }
   ],
   "source": [
    "datafile"
   ]
  },
  {
   "cell_type": "code",
   "execution_count": 5,
   "metadata": {},
   "outputs": [
    {
     "name": "stdout",
     "output_type": "stream",
     "text": [
      "Loading dataset\n"
     ]
    },
    {
     "ename": "FileNotFoundError",
     "evalue": "[Errno 2] File b'explore_history.csv' does not exist: b'explore_history.csv'",
     "output_type": "error",
     "traceback": [
      "\u001b[0;31m---------------------------------------------------------------------------\u001b[0m",
      "\u001b[0;31mFileNotFoundError\u001b[0m                         Traceback (most recent call last)",
      "\u001b[0;32m<ipython-input-5-24d0e6b2b39f>\u001b[0m in \u001b[0;36m<module>\u001b[0;34m()\u001b[0m\n\u001b[1;32m      1\u001b[0m \u001b[0;31m#Load data\u001b[0m\u001b[0;34m\u001b[0m\u001b[0;34m\u001b[0m\u001b[0;34m\u001b[0m\u001b[0m\n\u001b[1;32m      2\u001b[0m \u001b[0mprint\u001b[0m\u001b[0;34m(\u001b[0m\u001b[0;34m'Loading dataset'\u001b[0m\u001b[0;34m)\u001b[0m\u001b[0;34m\u001b[0m\u001b[0;34m\u001b[0m\u001b[0m\n\u001b[0;32m----> 3\u001b[0;31m \u001b[0mdataOrig\u001b[0m \u001b[0;34m=\u001b[0m \u001b[0mCS\u001b[0m\u001b[0;34m.\u001b[0m\u001b[0mloadFromCSV\u001b[0m\u001b[0;34m(\u001b[0m\u001b[0mdatafile\u001b[0m\u001b[0;34m)\u001b[0m\u001b[0;34m\u001b[0m\u001b[0;34m\u001b[0m\u001b[0m\n\u001b[0m\u001b[1;32m      4\u001b[0m \u001b[0mdata\u001b[0m \u001b[0;34m=\u001b[0m \u001b[0mLM\u001b[0m\u001b[0;34m.\u001b[0m\u001b[0mprepareDataset\u001b[0m\u001b[0;34m(\u001b[0m\u001b[0mdataOrig\u001b[0m\u001b[0;34m)\u001b[0m\u001b[0;34m\u001b[0m\u001b[0;34m\u001b[0m\u001b[0m\n",
      "\u001b[0;32m~/GIT/cs481-senior-design/s19/CS481Dataset.py\u001b[0m in \u001b[0;36mloadFromCSV\u001b[0;34m(filename)\u001b[0m\n\u001b[1;32m     61\u001b[0m     \"\"\"\n\u001b[1;32m     62\u001b[0m \u001b[0;34m\u001b[0m\u001b[0m\n\u001b[0;32m---> 63\u001b[0;31m     \u001b[0mdata\u001b[0m \u001b[0;34m=\u001b[0m \u001b[0mpd\u001b[0m\u001b[0;34m.\u001b[0m\u001b[0mread_csv\u001b[0m\u001b[0;34m(\u001b[0m\u001b[0mfilename\u001b[0m\u001b[0;34m)\u001b[0m\u001b[0;34m\u001b[0m\u001b[0;34m\u001b[0m\u001b[0m\n\u001b[0m\u001b[1;32m     64\u001b[0m \u001b[0;34m\u001b[0m\u001b[0m\n\u001b[1;32m     65\u001b[0m     \u001b[0;31m# When a column containing a list is written to a csv and read back in the column becomes a string.\u001b[0m\u001b[0;34m\u001b[0m\u001b[0;34m\u001b[0m\u001b[0;34m\u001b[0m\u001b[0m\n",
      "\u001b[0;32m~/anaconda3/envs/oldfastai/lib/python3.6/site-packages/pandas/io/parsers.py\u001b[0m in \u001b[0;36mparser_f\u001b[0;34m(filepath_or_buffer, sep, delimiter, header, names, index_col, usecols, squeeze, prefix, mangle_dupe_cols, dtype, engine, converters, true_values, false_values, skipinitialspace, skiprows, skipfooter, nrows, na_values, keep_default_na, na_filter, verbose, skip_blank_lines, parse_dates, infer_datetime_format, keep_date_col, date_parser, dayfirst, iterator, chunksize, compression, thousands, decimal, lineterminator, quotechar, quoting, doublequote, escapechar, comment, encoding, dialect, tupleize_cols, error_bad_lines, warn_bad_lines, delim_whitespace, low_memory, memory_map, float_precision)\u001b[0m\n\u001b[1;32m    700\u001b[0m                     skip_blank_lines=skip_blank_lines)\n\u001b[1;32m    701\u001b[0m \u001b[0;34m\u001b[0m\u001b[0m\n\u001b[0;32m--> 702\u001b[0;31m         \u001b[0;32mreturn\u001b[0m \u001b[0m_read\u001b[0m\u001b[0;34m(\u001b[0m\u001b[0mfilepath_or_buffer\u001b[0m\u001b[0;34m,\u001b[0m \u001b[0mkwds\u001b[0m\u001b[0;34m)\u001b[0m\u001b[0;34m\u001b[0m\u001b[0;34m\u001b[0m\u001b[0m\n\u001b[0m\u001b[1;32m    703\u001b[0m \u001b[0;34m\u001b[0m\u001b[0m\n\u001b[1;32m    704\u001b[0m     \u001b[0mparser_f\u001b[0m\u001b[0;34m.\u001b[0m\u001b[0m__name__\u001b[0m \u001b[0;34m=\u001b[0m \u001b[0mname\u001b[0m\u001b[0;34m\u001b[0m\u001b[0;34m\u001b[0m\u001b[0m\n",
      "\u001b[0;32m~/anaconda3/envs/oldfastai/lib/python3.6/site-packages/pandas/io/parsers.py\u001b[0m in \u001b[0;36m_read\u001b[0;34m(filepath_or_buffer, kwds)\u001b[0m\n\u001b[1;32m    427\u001b[0m \u001b[0;34m\u001b[0m\u001b[0m\n\u001b[1;32m    428\u001b[0m     \u001b[0;31m# Create the parser.\u001b[0m\u001b[0;34m\u001b[0m\u001b[0;34m\u001b[0m\u001b[0;34m\u001b[0m\u001b[0m\n\u001b[0;32m--> 429\u001b[0;31m     \u001b[0mparser\u001b[0m \u001b[0;34m=\u001b[0m \u001b[0mTextFileReader\u001b[0m\u001b[0;34m(\u001b[0m\u001b[0mfilepath_or_buffer\u001b[0m\u001b[0;34m,\u001b[0m \u001b[0;34m**\u001b[0m\u001b[0mkwds\u001b[0m\u001b[0;34m)\u001b[0m\u001b[0;34m\u001b[0m\u001b[0;34m\u001b[0m\u001b[0m\n\u001b[0m\u001b[1;32m    430\u001b[0m \u001b[0;34m\u001b[0m\u001b[0m\n\u001b[1;32m    431\u001b[0m     \u001b[0;32mif\u001b[0m \u001b[0mchunksize\u001b[0m \u001b[0;32mor\u001b[0m \u001b[0miterator\u001b[0m\u001b[0;34m:\u001b[0m\u001b[0;34m\u001b[0m\u001b[0;34m\u001b[0m\u001b[0m\n",
      "\u001b[0;32m~/anaconda3/envs/oldfastai/lib/python3.6/site-packages/pandas/io/parsers.py\u001b[0m in \u001b[0;36m__init__\u001b[0;34m(self, f, engine, **kwds)\u001b[0m\n\u001b[1;32m    893\u001b[0m             \u001b[0mself\u001b[0m\u001b[0;34m.\u001b[0m\u001b[0moptions\u001b[0m\u001b[0;34m[\u001b[0m\u001b[0;34m'has_index_names'\u001b[0m\u001b[0;34m]\u001b[0m \u001b[0;34m=\u001b[0m \u001b[0mkwds\u001b[0m\u001b[0;34m[\u001b[0m\u001b[0;34m'has_index_names'\u001b[0m\u001b[0;34m]\u001b[0m\u001b[0;34m\u001b[0m\u001b[0;34m\u001b[0m\u001b[0m\n\u001b[1;32m    894\u001b[0m \u001b[0;34m\u001b[0m\u001b[0m\n\u001b[0;32m--> 895\u001b[0;31m         \u001b[0mself\u001b[0m\u001b[0;34m.\u001b[0m\u001b[0m_make_engine\u001b[0m\u001b[0;34m(\u001b[0m\u001b[0mself\u001b[0m\u001b[0;34m.\u001b[0m\u001b[0mengine\u001b[0m\u001b[0;34m)\u001b[0m\u001b[0;34m\u001b[0m\u001b[0;34m\u001b[0m\u001b[0m\n\u001b[0m\u001b[1;32m    896\u001b[0m \u001b[0;34m\u001b[0m\u001b[0m\n\u001b[1;32m    897\u001b[0m     \u001b[0;32mdef\u001b[0m \u001b[0mclose\u001b[0m\u001b[0;34m(\u001b[0m\u001b[0mself\u001b[0m\u001b[0;34m)\u001b[0m\u001b[0;34m:\u001b[0m\u001b[0;34m\u001b[0m\u001b[0;34m\u001b[0m\u001b[0m\n",
      "\u001b[0;32m~/anaconda3/envs/oldfastai/lib/python3.6/site-packages/pandas/io/parsers.py\u001b[0m in \u001b[0;36m_make_engine\u001b[0;34m(self, engine)\u001b[0m\n\u001b[1;32m   1120\u001b[0m     \u001b[0;32mdef\u001b[0m \u001b[0m_make_engine\u001b[0m\u001b[0;34m(\u001b[0m\u001b[0mself\u001b[0m\u001b[0;34m,\u001b[0m \u001b[0mengine\u001b[0m\u001b[0;34m=\u001b[0m\u001b[0;34m'c'\u001b[0m\u001b[0;34m)\u001b[0m\u001b[0;34m:\u001b[0m\u001b[0;34m\u001b[0m\u001b[0;34m\u001b[0m\u001b[0m\n\u001b[1;32m   1121\u001b[0m         \u001b[0;32mif\u001b[0m \u001b[0mengine\u001b[0m \u001b[0;34m==\u001b[0m \u001b[0;34m'c'\u001b[0m\u001b[0;34m:\u001b[0m\u001b[0;34m\u001b[0m\u001b[0;34m\u001b[0m\u001b[0m\n\u001b[0;32m-> 1122\u001b[0;31m             \u001b[0mself\u001b[0m\u001b[0;34m.\u001b[0m\u001b[0m_engine\u001b[0m \u001b[0;34m=\u001b[0m \u001b[0mCParserWrapper\u001b[0m\u001b[0;34m(\u001b[0m\u001b[0mself\u001b[0m\u001b[0;34m.\u001b[0m\u001b[0mf\u001b[0m\u001b[0;34m,\u001b[0m \u001b[0;34m**\u001b[0m\u001b[0mself\u001b[0m\u001b[0;34m.\u001b[0m\u001b[0moptions\u001b[0m\u001b[0;34m)\u001b[0m\u001b[0;34m\u001b[0m\u001b[0;34m\u001b[0m\u001b[0m\n\u001b[0m\u001b[1;32m   1123\u001b[0m         \u001b[0;32melse\u001b[0m\u001b[0;34m:\u001b[0m\u001b[0;34m\u001b[0m\u001b[0;34m\u001b[0m\u001b[0m\n\u001b[1;32m   1124\u001b[0m             \u001b[0;32mif\u001b[0m \u001b[0mengine\u001b[0m \u001b[0;34m==\u001b[0m \u001b[0;34m'python'\u001b[0m\u001b[0;34m:\u001b[0m\u001b[0;34m\u001b[0m\u001b[0;34m\u001b[0m\u001b[0m\n",
      "\u001b[0;32m~/anaconda3/envs/oldfastai/lib/python3.6/site-packages/pandas/io/parsers.py\u001b[0m in \u001b[0;36m__init__\u001b[0;34m(self, src, **kwds)\u001b[0m\n\u001b[1;32m   1851\u001b[0m         \u001b[0mkwds\u001b[0m\u001b[0;34m[\u001b[0m\u001b[0;34m'usecols'\u001b[0m\u001b[0;34m]\u001b[0m \u001b[0;34m=\u001b[0m \u001b[0mself\u001b[0m\u001b[0;34m.\u001b[0m\u001b[0musecols\u001b[0m\u001b[0;34m\u001b[0m\u001b[0;34m\u001b[0m\u001b[0m\n\u001b[1;32m   1852\u001b[0m \u001b[0;34m\u001b[0m\u001b[0m\n\u001b[0;32m-> 1853\u001b[0;31m         \u001b[0mself\u001b[0m\u001b[0;34m.\u001b[0m\u001b[0m_reader\u001b[0m \u001b[0;34m=\u001b[0m \u001b[0mparsers\u001b[0m\u001b[0;34m.\u001b[0m\u001b[0mTextReader\u001b[0m\u001b[0;34m(\u001b[0m\u001b[0msrc\u001b[0m\u001b[0;34m,\u001b[0m \u001b[0;34m**\u001b[0m\u001b[0mkwds\u001b[0m\u001b[0;34m)\u001b[0m\u001b[0;34m\u001b[0m\u001b[0;34m\u001b[0m\u001b[0m\n\u001b[0m\u001b[1;32m   1854\u001b[0m         \u001b[0mself\u001b[0m\u001b[0;34m.\u001b[0m\u001b[0munnamed_cols\u001b[0m \u001b[0;34m=\u001b[0m \u001b[0mself\u001b[0m\u001b[0;34m.\u001b[0m\u001b[0m_reader\u001b[0m\u001b[0;34m.\u001b[0m\u001b[0munnamed_cols\u001b[0m\u001b[0;34m\u001b[0m\u001b[0;34m\u001b[0m\u001b[0m\n\u001b[1;32m   1855\u001b[0m \u001b[0;34m\u001b[0m\u001b[0m\n",
      "\u001b[0;32mpandas/_libs/parsers.pyx\u001b[0m in \u001b[0;36mpandas._libs.parsers.TextReader.__cinit__\u001b[0;34m()\u001b[0m\n",
      "\u001b[0;32mpandas/_libs/parsers.pyx\u001b[0m in \u001b[0;36mpandas._libs.parsers.TextReader._setup_parser_source\u001b[0;34m()\u001b[0m\n",
      "\u001b[0;31mFileNotFoundError\u001b[0m: [Errno 2] File b'explore_history.csv' does not exist: b'explore_history.csv'"
     ]
    }
   ],
   "source": [
    "#Load data\n",
    "print('Loading dataset')\n",
    "dataOrig = CS.loadFromCSV(datafile)\n",
    "LM_data = LM.prepareDataset(dataOrig)"
   ]
  },
  {
   "cell_type": "code",
   "execution_count": 14,
   "metadata": {},
   "outputs": [
    {
     "data": {
      "text/html": [
       "<div>\n",
       "<style scoped>\n",
       "    .dataframe tbody tr th:only-of-type {\n",
       "        vertical-align: middle;\n",
       "    }\n",
       "\n",
       "    .dataframe tbody tr th {\n",
       "        vertical-align: top;\n",
       "    }\n",
       "\n",
       "    .dataframe thead th {\n",
       "        text-align: right;\n",
       "    }\n",
       "</style>\n",
       "<table border=\"1\" class=\"dataframe\">\n",
       "  <thead>\n",
       "    <tr style=\"text-align: right;\">\n",
       "      <th></th>\n",
       "      <th>img</th>\n",
       "      <th>word</th>\n",
       "      <th>box_coord</th>\n",
       "      <th>time</th>\n",
       "      <th>annotation</th>\n",
       "      <th>imgFeatures</th>\n",
       "    </tr>\n",
       "  </thead>\n",
       "  <tbody>\n",
       "    <tr>\n",
       "      <th>0</th>\n",
       "      <td>[[[12, 12, 12], [12, 12, 12], [13, 13, 13], [1...</td>\n",
       "      <td>blocks</td>\n",
       "      <td>(0.08415357, 36.06744, 211.52437, 196.10556)</td>\n",
       "      <td>2019-07-30 16:01:34.128181</td>\n",
       "      <td>1</td>\n",
       "      <td>[0.0, 0.0, 0.0, 0.0, 0.0, 0.0, 2.138063, 0.0, ...</td>\n",
       "    </tr>\n",
       "    <tr>\n",
       "      <th>1</th>\n",
       "      <td>[[[12, 12, 12], [12, 12, 12], [13, 13, 13], [1...</td>\n",
       "      <td>black and white</td>\n",
       "      <td>(11.060257, 27.61384, 229.36584, 195.69952)</td>\n",
       "      <td>2019-07-30 16:01:42.700762</td>\n",
       "      <td>1</td>\n",
       "      <td>[0.0, 0.0, 0.0, 0.28849867, 0.0, 0.0, 2.051689...</td>\n",
       "    </tr>\n",
       "    <tr>\n",
       "      <th>2</th>\n",
       "      <td>[[[11, 13, 8], [11, 13, 8], [11, 13, 8], [11, ...</td>\n",
       "      <td>purple</td>\n",
       "      <td>(53.525486, 51.073635, 204.68407, 151.20416)</td>\n",
       "      <td>2019-07-30 16:02:02.150410</td>\n",
       "      <td>1</td>\n",
       "      <td>[0.0, 0.0, 0.0, 0.0, 0.0, 0.0, 0.9238289, 0.0,...</td>\n",
       "    </tr>\n",
       "    <tr>\n",
       "      <th>3</th>\n",
       "      <td>[[[14, 15, 10], [14, 15, 10], [14, 15, 10], [1...</td>\n",
       "      <td>dark blue Z</td>\n",
       "      <td>(55.54578, 41.274704, 209.2253, 142.09975)</td>\n",
       "      <td>2019-07-30 16:02:09.358059</td>\n",
       "      <td>1</td>\n",
       "      <td>[0.0, 0.0, 0.0, 0.0, 0.36562327, 0.0, 0.984727...</td>\n",
       "    </tr>\n",
       "    <tr>\n",
       "      <th>4</th>\n",
       "      <td>[[[12, 12, 12], [12, 12, 12], [13, 13, 13], [1...</td>\n",
       "      <td>dark blue Z</td>\n",
       "      <td>(0.08415357, 36.06744, 211.52437, 196.10556)</td>\n",
       "      <td>2019-07-30 16:01:34.128181</td>\n",
       "      <td>0</td>\n",
       "      <td>[0.0, 0.0, 0.0, 0.0, 0.0, 0.0, 2.138063, 0.0, ...</td>\n",
       "    </tr>\n",
       "    <tr>\n",
       "      <th>5</th>\n",
       "      <td>[[[14, 15, 10], [14, 15, 10], [14, 15, 10], [1...</td>\n",
       "      <td>blocks</td>\n",
       "      <td>(55.54578, 41.274704, 209.2253, 142.09975)</td>\n",
       "      <td>2019-07-30 16:02:09.358059</td>\n",
       "      <td>0</td>\n",
       "      <td>[0.0, 0.0, 0.0, 0.0, 0.36562327, 0.0, 0.984727...</td>\n",
       "    </tr>\n",
       "    <tr>\n",
       "      <th>6</th>\n",
       "      <td>[[[12, 12, 12], [12, 12, 12], [13, 13, 13], [1...</td>\n",
       "      <td>black and white</td>\n",
       "      <td>(0.08415357, 36.06744, 211.52437, 196.10556)</td>\n",
       "      <td>2019-07-30 16:01:34.128181</td>\n",
       "      <td>0</td>\n",
       "      <td>[0.0, 0.0, 0.0, 0.0, 0.0, 0.0, 2.138063, 0.0, ...</td>\n",
       "    </tr>\n",
       "    <tr>\n",
       "      <th>7</th>\n",
       "      <td>[[[14, 15, 10], [14, 15, 10], [14, 15, 10], [1...</td>\n",
       "      <td>purple</td>\n",
       "      <td>(55.54578, 41.274704, 209.2253, 142.09975)</td>\n",
       "      <td>2019-07-30 16:02:09.358059</td>\n",
       "      <td>0</td>\n",
       "      <td>[0.0, 0.0, 0.0, 0.0, 0.36562327, 0.0, 0.984727...</td>\n",
       "    </tr>\n",
       "  </tbody>\n",
       "</table>\n",
       "</div>"
      ],
      "text/plain": [
       "                                                 img             word  \\\n",
       "0  [[[12, 12, 12], [12, 12, 12], [13, 13, 13], [1...           blocks   \n",
       "1  [[[12, 12, 12], [12, 12, 12], [13, 13, 13], [1...  black and white   \n",
       "2  [[[11, 13, 8], [11, 13, 8], [11, 13, 8], [11, ...           purple   \n",
       "3  [[[14, 15, 10], [14, 15, 10], [14, 15, 10], [1...      dark blue Z   \n",
       "4  [[[12, 12, 12], [12, 12, 12], [13, 13, 13], [1...      dark blue Z   \n",
       "5  [[[14, 15, 10], [14, 15, 10], [14, 15, 10], [1...           blocks   \n",
       "6  [[[12, 12, 12], [12, 12, 12], [13, 13, 13], [1...  black and white   \n",
       "7  [[[14, 15, 10], [14, 15, 10], [14, 15, 10], [1...           purple   \n",
       "\n",
       "                                      box_coord                        time  \\\n",
       "0  (0.08415357, 36.06744, 211.52437, 196.10556)  2019-07-30 16:01:34.128181   \n",
       "1   (11.060257, 27.61384, 229.36584, 195.69952)  2019-07-30 16:01:42.700762   \n",
       "2  (53.525486, 51.073635, 204.68407, 151.20416)  2019-07-30 16:02:02.150410   \n",
       "3    (55.54578, 41.274704, 209.2253, 142.09975)  2019-07-30 16:02:09.358059   \n",
       "4  (0.08415357, 36.06744, 211.52437, 196.10556)  2019-07-30 16:01:34.128181   \n",
       "5    (55.54578, 41.274704, 209.2253, 142.09975)  2019-07-30 16:02:09.358059   \n",
       "6  (0.08415357, 36.06744, 211.52437, 196.10556)  2019-07-30 16:01:34.128181   \n",
       "7    (55.54578, 41.274704, 209.2253, 142.09975)  2019-07-30 16:02:09.358059   \n",
       "\n",
       "   annotation                                        imgFeatures  \n",
       "0           1  [0.0, 0.0, 0.0, 0.0, 0.0, 0.0, 2.138063, 0.0, ...  \n",
       "1           1  [0.0, 0.0, 0.0, 0.28849867, 0.0, 0.0, 2.051689...  \n",
       "2           1  [0.0, 0.0, 0.0, 0.0, 0.0, 0.0, 0.9238289, 0.0,...  \n",
       "3           1  [0.0, 0.0, 0.0, 0.0, 0.36562327, 0.0, 0.984727...  \n",
       "4           0  [0.0, 0.0, 0.0, 0.0, 0.0, 0.0, 2.138063, 0.0, ...  \n",
       "5           0  [0.0, 0.0, 0.0, 0.0, 0.36562327, 0.0, 0.984727...  \n",
       "6           0  [0.0, 0.0, 0.0, 0.0, 0.0, 0.0, 2.138063, 0.0, ...  \n",
       "7           0  [0.0, 0.0, 0.0, 0.0, 0.36562327, 0.0, 0.984727...  "
      ]
     },
     "execution_count": 14,
     "metadata": {},
     "output_type": "execute_result"
    }
   ],
   "source": [
    "LM_data"
   ]
  },
  {
   "cell_type": "code",
   "execution_count": null,
   "metadata": {},
   "outputs": [],
   "source": [
    "LM_data.to_pickle('explore_LM.pkl')"
   ]
  },
  {
   "cell_type": "code",
   "execution_count": null,
   "metadata": {},
   "outputs": [],
   "source": [
    "#Split Data\n",
    "train, test = train_test_split(data, test_size=0.2)"
   ]
  },
  {
   "cell_type": "code",
   "execution_count": null,
   "metadata": {},
   "outputs": [],
   "source": [
    "#Create model\n",
    "print('Adding images to model')\n",
    "langMod = LM.LanguageModel()\n",
    "langMod.addImages(train)\n",
    "print('Training model')\n",
    "langMod.train()"
   ]
  },
  {
   "cell_type": "code",
   "execution_count": null,
   "metadata": {},
   "outputs": [],
   "source": []
  }
 ],
 "metadata": {
  "kernelspec": {
   "display_name": "Python 3",
   "language": "python",
   "name": "python3"
  },
  "language_info": {
   "codemirror_mode": {
    "name": "ipython",
    "version": 3
   },
   "file_extension": ".py",
   "mimetype": "text/x-python",
   "name": "python",
   "nbconvert_exporter": "python",
   "pygments_lexer": "ipython3",
   "version": "3.7.4"
  }
 },
 "nbformat": 4,
 "nbformat_minor": 2
}

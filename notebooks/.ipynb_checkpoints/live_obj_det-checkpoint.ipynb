{
 "cells": [
  {
   "cell_type": "code",
   "execution_count": 3,
   "metadata": {},
   "outputs": [],
   "source": [
    "import os\n",
    "dir_path = '/home/david/GIT/language-acquisition'\n",
    "os.chdir(dir_path)"
   ]
  },
  {
   "cell_type": "code",
   "execution_count": 4,
   "metadata": {
    "scrolled": true
   },
   "outputs": [
    {
     "ename": "ModuleNotFoundError",
     "evalue": "No module named 'classes.mask_rcnn'",
     "output_type": "error",
     "traceback": [
      "\u001b[0;31m---------------------------------------------------------------------------\u001b[0m",
      "\u001b[0;31mModuleNotFoundError\u001b[0m                       Traceback (most recent call last)",
      "\u001b[0;32m<ipython-input-4-338da3d04fbf>\u001b[0m in \u001b[0;36m<module>\u001b[0;34m\u001b[0m\n\u001b[1;32m      2\u001b[0m \u001b[0;31m# matplotlib.use(\"Qt5Agg\") #Makes imshow work on mac\u001b[0m\u001b[0;34m\u001b[0m\u001b[0;34m\u001b[0m\u001b[0;34m\u001b[0m\u001b[0m\n\u001b[1;32m      3\u001b[0m \u001b[0;32mfrom\u001b[0m \u001b[0mmatplotlib\u001b[0m \u001b[0;32mimport\u001b[0m \u001b[0mpyplot\u001b[0m \u001b[0;32mas\u001b[0m \u001b[0mplt\u001b[0m\u001b[0;34m\u001b[0m\u001b[0;34m\u001b[0m\u001b[0m\n\u001b[0;32m----> 4\u001b[0;31m \u001b[0;32mfrom\u001b[0m \u001b[0mclasses\u001b[0m\u001b[0;34m.\u001b[0m\u001b[0mmask_rcnn\u001b[0m \u001b[0;32mimport\u001b[0m \u001b[0mMaskRCNN\u001b[0m\u001b[0;34m\u001b[0m\u001b[0;34m\u001b[0m\u001b[0m\n\u001b[0m\u001b[1;32m      5\u001b[0m \u001b[0;31m#from Model import Model, draw_boxes\u001b[0m\u001b[0;34m\u001b[0m\u001b[0;34m\u001b[0m\u001b[0;34m\u001b[0m\u001b[0m\n\u001b[1;32m      6\u001b[0m \u001b[0;32mimport\u001b[0m \u001b[0mcozmo\u001b[0m\u001b[0;34m\u001b[0m\u001b[0;34m\u001b[0m\u001b[0m\n",
      "\u001b[0;31mModuleNotFoundError\u001b[0m: No module named 'classes.mask_rcnn'"
     ]
    }
   ],
   "source": [
    "import matplotlib\n",
    "# matplotlib.use(\"Qt5Agg\") #Makes imshow work on mac\n",
    "from matplotlib import pyplot as plt\n",
    "from classes.mask_rcnn import MaskRCNN\n",
    "#from Model import Model, draw_boxes\n",
    "import cozmo\n",
    "import queue\n",
    "import time\n",
    "import threading\n",
    "import numpy as np\n",
    "import os\n",
    "from object_detection.utils import label_map_util\n",
    "from object_detection.utils import visualization_utils as vis_util"
   ]
  },
  {
   "cell_type": "code",
   "execution_count": null,
   "metadata": {},
   "outputs": [],
   "source": [
    "obj_det_path = \"/home/david/anaconda3/envs/cozmo/lib/python3.7/site-packages/tensorflow/models/research/object_detection/\"\n",
    "\n",
    "# faster_rcnn_inception_resnet_v2_atrous_oid_v4_2018_12_12'\n",
    "MODEL_NAME = obj_det_path + 'd2s_model'\n",
    "\n",
    "path = MODEL_NAME + '/frozen_inference_graph.pb'\n",
    "image_dimensions = (240, 320, 3)\n",
    "model = MaskRCNN(path, image_dimensions)\n",
    "\n",
    "PATH_TO_LABELS = os.path.join(obj_det_path + 'd2s_model', 'label_map.pbtxt')\n",
    "\n",
    "category_index = label_map_util.create_category_index_from_labelmap(PATH_TO_LABELS, use_display_name=True)"
   ]
  },
  {
   "cell_type": "code",
   "execution_count": null,
   "metadata": {},
   "outputs": [],
   "source": [
    "import datetime\n",
    "\n",
    "def load_image_into_numpy_array(image):\n",
    "    (im_width, im_height) = image.size\n",
    "    return np.array(image.getdata()).reshape(\n",
    "        (im_height, im_width, 3)).astype(np.uint8)\n",
    "\n",
    "def detectImages():\n",
    "    print('Detect Images started')\n",
    "    while(True):\n",
    "        if(not imageQueue.empty()):\n",
    "            try:\n",
    "                plt.clf() # We need to clear the plot so that we are not plotting every image each iteration. (If we don't we will get increasing delay)\n",
    "\n",
    "                img = imageQueue.get()\n",
    "                image_np = load_image_into_numpy_array(img)\n",
    "                output_dict = model.detect(image_np)\n",
    "\n",
    "                vis_util.visualize_boxes_and_labels_on_image_array(\n",
    "                    image_np,\n",
    "                    output_dict['detection_boxes'],\n",
    "                    output_dict['detection_classes'],\n",
    "                    output_dict['detection_scores'],\n",
    "                    category_index,\n",
    "#                     instance_masks=output_dict.get('detection_masks'),\n",
    "                    use_normalized_coordinates=True,\n",
    "                    min_score_thresh=.01,\n",
    "                    line_thickness=8)\n",
    "\n",
    "                plt.imshow(image_np)\n",
    "                plt.pause(0.001) # imshow needs time to plot the image. Need this to display the image\n",
    "\n",
    "                print('Do you want to save this image? (y for yes, s for skip):')\n",
    "#             response = sys.stdin.readline()\n",
    "                response = input()\n",
    "                if response.strip() == 'y':\n",
    "                    fileName = 'cozmo_pics/'\n",
    "                    currentDT = datetime.datetime.now()\n",
    "                    fileName += str(currentDT)\n",
    "                    converted = img.convert()\n",
    "                    converted.save(fileName, \"JPEG\", resolution=10)\n",
    "                else:\n",
    "                    continue\n",
    "            \n",
    "            except queue.Empty:\n",
    "                pass\n",
    "\n",
    "def handle_image(evt, obj=None, tap_count=None,  **kwargs):\n",
    "    try:\n",
    "        if(imageQueue.empty()):\n",
    "            imageQueue.put_nowait(evt.image)\n",
    "    except queue.Full:\n",
    "        pass\n",
    "\n",
    "def configure_camera(robot, exposure_amount, gain_amount):\n",
    "    robot.camera.color_image_enabled = True\n",
    "    # Lerp exposure between min and max times\n",
    "    min_exposure = robot.camera.config.min_exposure_time_ms\n",
    "    max_exposure = robot.camera.config.max_exposure_time_ms\n",
    "    exposure_time = (1-exposure_amount)*min_exposure + exposure_amount*max_exposure\n",
    "    # Lerp gain\n",
    "    min_gain = robot.camera.config.min_gain\n",
    "    max_gain = robot.camera.config.max_gain\n",
    "    actual_gain = (1-gain_amount)*min_gain + gain_amount*max_gain\n",
    "    robot.camera.set_manual_exposure(exposure_time, actual_gain)\n",
    "\n",
    "def cozmo_program(robot: cozmo.robot.Robot):\n",
    "    robot.set_lift_height(1.0)\n",
    "    exposure_amount = 0.3 # Range: [0,1]\n",
    "    gain_amount = 0.9 # Range: [0,1]\n",
    "    configure_camera(robot, exposure_amount, gain_amount)\n",
    "    robot.add_event_handler(cozmo.camera.EvtNewRawCameraImage, handle_image)\n",
    "    print(\"Added event handler\")\n",
    "    while True:\n",
    "        time.sleep(0.1)"
   ]
  },
  {
   "cell_type": "code",
   "execution_count": null,
   "metadata": {},
   "outputs": [],
   "source": [
    "%matplotlib inline"
   ]
  },
  {
   "cell_type": "code",
   "execution_count": null,
   "metadata": {},
   "outputs": [],
   "source": [
    "#model = Model(path='../f18/data/coco2014', jpegs='../f18/train2014', bb_csv='../f18/data/coco2014/tmp/bb.csv')\n",
    "imageQueue = queue.Queue(maxsize=1)\n",
    "\n",
    "threading.Thread(target=detectImages).start()\n",
    "\n",
    "cozmo.run_program(cozmo_program, use_viewer=True)"
   ]
  },
  {
   "cell_type": "code",
   "execution_count": null,
   "metadata": {},
   "outputs": [],
   "source": []
  }
 ],
 "metadata": {
  "kernelspec": {
   "display_name": "Python 3",
   "language": "python",
   "name": "python3"
  },
  "language_info": {
   "codemirror_mode": {
    "name": "ipython",
    "version": 3
   },
   "file_extension": ".py",
   "mimetype": "text/x-python",
   "name": "python",
   "nbconvert_exporter": "python",
   "pygments_lexer": "ipython3",
   "version": "3.7.4"
  }
 },
 "nbformat": 4,
 "nbformat_minor": 2
}

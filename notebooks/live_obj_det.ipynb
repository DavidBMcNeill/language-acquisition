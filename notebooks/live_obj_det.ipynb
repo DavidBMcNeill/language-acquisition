{
 "cells": [
  {
   "cell_type": "markdown",
   "metadata": {},
   "source": [
    "# add language model stuff 11-8-19"
   ]
  },
  {
   "cell_type": "code",
   "execution_count": 1,
   "metadata": {},
   "outputs": [],
   "source": [
    "import pickle\n",
    "import sys"
   ]
  },
  {
   "cell_type": "code",
   "execution_count": 2,
   "metadata": {},
   "outputs": [
    {
     "name": "stderr",
     "output_type": "stream",
     "text": [
      "Using Theano backend.\n",
      "WARNING (theano.tensor.blas): Using NumPy C-API based implementation for BLAS functions.\n",
      "/home/david/anaconda3/envs/cozmo/lib/python3.7/site-packages/keras/utils/conv_utils.py:82: FutureWarning: Using a non-tuple sequence for multidimensional indexing is deprecated; use `arr[tuple(seq)]` instead of `arr[seq]`. In the future this will be interpreted as an array index, `arr[np.array(seq)]`, which will result either in an error or a different result.\n",
      "  return np.copy(kernel[slices])\n",
      "/home/david/anaconda3/envs/cozmo/lib/python3.7/site-packages/keras/engine/saving.py:292: UserWarning: No training configuration found in save file: the model was *not* compiled. Compile it manually.\n",
      "  warnings.warn('No training configuration found in save file: '\n",
      "/home/david/anaconda3/envs/cozmo/lib/python3.7/site-packages/sklearn/base.py:306: UserWarning: Trying to unpickle estimator LogisticRegression from version 0.20.2 when using version 0.21.3. This might lead to breaking code or invalid results. Use at your own risk.\n",
      "  UserWarning)\n"
     ]
    }
   ],
   "source": [
    "dir_path = '/home/david/GIT/cs481-senior-design/s19/'\n",
    "sys.path.append(dir_path)\n",
    "\n",
    "import LanguageModel\n",
    "\n",
    "dir_path = '/home/david/GIT/cs481-senior-design/s19/'\n",
    "with open(dir_path+'language-model.pickle', 'rb') as handle:\n",
    "    predModel = pickle.load(handle) #trying to load a LanguageModel type    \n",
    "\n",
    "def predict(robot):\n",
    "    preds = []\n",
    "    for i in range(len(languageFeed)):\n",
    "        currentImg = languageFeed.pop()\n",
    "        preds.append(predModel.predictImageWord(currentImg))\n",
    "    preds = [item[0] for item in preds] #remove probability number in tuple\n",
    "    prediction = collections.Counter(preds).most_common(1)[0][0]\n",
    "    robot.say_text(prediction).wait_for_completed()"
   ]
  },
  {
   "cell_type": "code",
   "execution_count": 3,
   "metadata": {
    "scrolled": true
   },
   "outputs": [
    {
     "name": "stderr",
     "output_type": "stream",
     "text": [
      "/home/david/anaconda3/envs/cozmo/lib/python3.7/site-packages/tensorflow/python/framework/dtypes.py:516: FutureWarning: Passing (type, 1) or '1type' as a synonym of type is deprecated; in a future version of numpy, it will be understood as (type, (1,)) / '(1,)type'.\n",
      "  _np_qint8 = np.dtype([(\"qint8\", np.int8, 1)])\n",
      "/home/david/anaconda3/envs/cozmo/lib/python3.7/site-packages/tensorflow/python/framework/dtypes.py:517: FutureWarning: Passing (type, 1) or '1type' as a synonym of type is deprecated; in a future version of numpy, it will be understood as (type, (1,)) / '(1,)type'.\n",
      "  _np_quint8 = np.dtype([(\"quint8\", np.uint8, 1)])\n",
      "/home/david/anaconda3/envs/cozmo/lib/python3.7/site-packages/tensorflow/python/framework/dtypes.py:518: FutureWarning: Passing (type, 1) or '1type' as a synonym of type is deprecated; in a future version of numpy, it will be understood as (type, (1,)) / '(1,)type'.\n",
      "  _np_qint16 = np.dtype([(\"qint16\", np.int16, 1)])\n",
      "/home/david/anaconda3/envs/cozmo/lib/python3.7/site-packages/tensorflow/python/framework/dtypes.py:519: FutureWarning: Passing (type, 1) or '1type' as a synonym of type is deprecated; in a future version of numpy, it will be understood as (type, (1,)) / '(1,)type'.\n",
      "  _np_quint16 = np.dtype([(\"quint16\", np.uint16, 1)])\n",
      "/home/david/anaconda3/envs/cozmo/lib/python3.7/site-packages/tensorflow/python/framework/dtypes.py:520: FutureWarning: Passing (type, 1) or '1type' as a synonym of type is deprecated; in a future version of numpy, it will be understood as (type, (1,)) / '(1,)type'.\n",
      "  _np_qint32 = np.dtype([(\"qint32\", np.int32, 1)])\n",
      "/home/david/anaconda3/envs/cozmo/lib/python3.7/site-packages/tensorflow/python/framework/dtypes.py:525: FutureWarning: Passing (type, 1) or '1type' as a synonym of type is deprecated; in a future version of numpy, it will be understood as (type, (1,)) / '(1,)type'.\n",
      "  np_resource = np.dtype([(\"resource\", np.ubyte, 1)])\n",
      "/home/david/anaconda3/envs/cozmo/lib/python3.7/site-packages/tensorboard/compat/tensorflow_stub/dtypes.py:541: FutureWarning: Passing (type, 1) or '1type' as a synonym of type is deprecated; in a future version of numpy, it will be understood as (type, (1,)) / '(1,)type'.\n",
      "  _np_qint8 = np.dtype([(\"qint8\", np.int8, 1)])\n",
      "/home/david/anaconda3/envs/cozmo/lib/python3.7/site-packages/tensorboard/compat/tensorflow_stub/dtypes.py:542: FutureWarning: Passing (type, 1) or '1type' as a synonym of type is deprecated; in a future version of numpy, it will be understood as (type, (1,)) / '(1,)type'.\n",
      "  _np_quint8 = np.dtype([(\"quint8\", np.uint8, 1)])\n",
      "/home/david/anaconda3/envs/cozmo/lib/python3.7/site-packages/tensorboard/compat/tensorflow_stub/dtypes.py:543: FutureWarning: Passing (type, 1) or '1type' as a synonym of type is deprecated; in a future version of numpy, it will be understood as (type, (1,)) / '(1,)type'.\n",
      "  _np_qint16 = np.dtype([(\"qint16\", np.int16, 1)])\n",
      "/home/david/anaconda3/envs/cozmo/lib/python3.7/site-packages/tensorboard/compat/tensorflow_stub/dtypes.py:544: FutureWarning: Passing (type, 1) or '1type' as a synonym of type is deprecated; in a future version of numpy, it will be understood as (type, (1,)) / '(1,)type'.\n",
      "  _np_quint16 = np.dtype([(\"quint16\", np.uint16, 1)])\n",
      "/home/david/anaconda3/envs/cozmo/lib/python3.7/site-packages/tensorboard/compat/tensorflow_stub/dtypes.py:545: FutureWarning: Passing (type, 1) or '1type' as a synonym of type is deprecated; in a future version of numpy, it will be understood as (type, (1,)) / '(1,)type'.\n",
      "  _np_qint32 = np.dtype([(\"qint32\", np.int32, 1)])\n",
      "/home/david/anaconda3/envs/cozmo/lib/python3.7/site-packages/tensorboard/compat/tensorflow_stub/dtypes.py:550: FutureWarning: Passing (type, 1) or '1type' as a synonym of type is deprecated; in a future version of numpy, it will be understood as (type, (1,)) / '(1,)type'.\n",
      "  np_resource = np.dtype([(\"resource\", np.ubyte, 1)])\n"
     ]
    }
   ],
   "source": [
    "dir_path = '/home/david/GIT/language-acquisition/'\n",
    "sys.path.append(dir_path)\n",
    "\n",
    "import matplotlib\n",
    "# matplotlib.use(\"Qt5Agg\") #Makes imshow work on mac\n",
    "from matplotlib import pyplot as plt\n",
    "from classes.mask_rcnn import MaskRCNN\n",
    "#from Model import Model, draw_boxes\n",
    "\n",
    "import queue\n",
    "import time\n",
    "import threading\n",
    "import numpy as np\n",
    "from object_detection.utils import label_map_util\n",
    "from object_detection.utils import visualization_utils as vis_util"
   ]
  },
  {
   "cell_type": "code",
   "execution_count": 4,
   "metadata": {},
   "outputs": [
    {
     "name": "stdout",
     "output_type": "stream",
     "text": [
      "WARNING:tensorflow:From /home/david/GIT/language-acquisition/classes/mask_rcnn.py:90: The name tf.GraphDef is deprecated. Please use tf.compat.v1.GraphDef instead.\n",
      "\n",
      "WARNING:tensorflow:From /home/david/GIT/language-acquisition/classes/mask_rcnn.py:32: The name tf.ConfigProto is deprecated. Please use tf.compat.v1.ConfigProto instead.\n",
      "\n",
      "WARNING:tensorflow:From /home/david/anaconda3/envs/cozmo/lib/python3.7/site-packages/tensorflow/models/research/object_detection/utils/label_map_util.py:137: The name tf.gfile.GFile is deprecated. Please use tf.io.gfile.GFile instead.\n",
      "\n"
     ]
    }
   ],
   "source": [
    "import os\n",
    "\n",
    "obj_det_path = \"/home/david/anaconda3/envs/cozmo/lib/python3.7/site-packages/tensorflow/models/research/object_detection/\"\n",
    "\n",
    "# faster_rcnn_inception_resnet_v2_atrous_oid_v4_2018_12_12'\n",
    "MODEL_NAME = obj_det_path + 'd2s_model'\n",
    "\n",
    "path = MODEL_NAME + '/frozen_inference_graph.pb'\n",
    "image_dimensions = (240, 320, 3)\n",
    "model = MaskRCNN(path, image_dimensions)\n",
    "\n",
    "PATH_TO_LABELS = os.path.join(obj_det_path + 'd2s_model', 'label_map.pbtxt')\n",
    "\n",
    "category_index = label_map_util.create_category_index_from_labelmap(PATH_TO_LABELS, use_display_name=True)"
   ]
  },
  {
   "cell_type": "code",
   "execution_count": 5,
   "metadata": {},
   "outputs": [
    {
     "name": "stderr",
     "output_type": "stream",
     "text": [
      "/home/david/anaconda3/envs/cozmo/lib/python3.7/site-packages/keras/utils/conv_utils.py:82: FutureWarning: Using a non-tuple sequence for multidimensional indexing is deprecated; use `arr[tuple(seq)]` instead of `arr[seq]`. In the future this will be interpreted as an array index, `arr[np.array(seq)]`, which will result either in an error or a different result.\n",
      "  return np.copy(kernel[slices])\n"
     ]
    }
   ],
   "source": [
    "import datetime\n",
    "sys.path.append('/home/david/GIT/cozmo-python-sdk/')\n",
    "sys.path.append('/home/david/GIT/cozmo-python-sdk/src')\n",
    "sys.path.append('/home/david/GIT/cozmo-python-sdk/src/cozmo')\n",
    "\n",
    "from src.cozmo.util import degrees, Angle, distance_mm, speed_mmps\n",
    "from src import cozmo"
   ]
  },
  {
   "cell_type": "code",
   "execution_count": 6,
   "metadata": {},
   "outputs": [],
   "source": [
    "def load_image_into_numpy_array(image):\n",
    "    (im_width, im_height) = image.size\n",
    "    return np.array(image.getdata()).reshape(\n",
    "        (im_height, im_width, 3)).astype(np.uint8)\n",
    "\n",
    "def handle_image(evt, obj=None, tap_count=None,  **kwargs):\n",
    "    try:\n",
    "        if(imageQueue.empty()): # \n",
    "            imageQueue.put_nowait(evt.image)\n",
    "    except queue.Full:\n",
    "        pass\n",
    "\n",
    "def configure_camera(robot, exposure_amount, gain_amount, color):\n",
    "    robot.camera.color_image_enabled = color\n",
    "    # Lerp exposure between min and max times\n",
    "    min_exposure = robot.camera.config.min_exposure_time_ms\n",
    "    max_exposure = robot.camera.config.max_exposure_time_ms\n",
    "    exposure_time = (1-exposure_amount)*min_exposure + exposure_amount*max_exposure\n",
    "    # Lerp gain\n",
    "    min_gain = robot.camera.config.min_gain\n",
    "    max_gain = robot.camera.config.max_gain\n",
    "    actual_gain = (1-gain_amount)*min_gain + gain_amount*max_gain\n",
    "    robot.camera.set_manual_exposure(exposure_time, actual_gain)\n",
    "\n",
    "def detect_object(robot, minimum_threshold=0.10):\n",
    "    '''\n",
    "    run object detection on images from imageQueue\n",
    "    returns: populates objectQueue with Object data. \n",
    "    '''\n",
    "    print('Detect Images started')\n",
    "    counter = 0\n",
    "    while(True):\n",
    "        if(not imageQueue.empty()): \n",
    "            try:\n",
    "                img = imageQueue.get()\n",
    "                image_np = load_image_into_numpy_array(img)\n",
    "                output_dict = model.detect(image_np)\n",
    "\n",
    "                indices = [list(output_dict['detection_scores']).index(o) \n",
    "                           for o in output_dict['detection_scores'] \n",
    "                           if o > minimum_threshold]\n",
    "                if len(indices) > 0 and objQueue.empty():    \n",
    "                    for i in range(len(indices)):\n",
    "                        boxes = [output_dict['detection_boxes'][i] for i in indices]\n",
    "                        b = boxes[i]\n",
    "                        real_obj = obj_check(b)\n",
    "                        if not real_obj[0]: \n",
    "                            continue\n",
    "                        else: \n",
    "                            classes = [output_dict['detection_classes'][i] for i in indices]\n",
    "                            scores = [output_dict['detection_scores'][i] for i in indices]\n",
    "                            bestObj_i = i \n",
    "                            box = boxes[bestObj_i]\n",
    "                            score = scores[bestObj_i]\n",
    "                            label = classes[bestObj_i]\n",
    "\n",
    "                            if objQueue.empty():\n",
    "                                plt.clf() # We need to clear the plot so that we are not plotting every image each iteration. \n",
    "                                # (If we don't we will get increasing delay)\n",
    "                                objQueue.put_nowait(box)\n",
    "                                \n",
    "                                # add image to the language feed\n",
    "                                crop_ADD_image(box, img.copy())\n",
    "                                \n",
    "                                vis_util.visualize_boxes_and_labels_on_image_array(\n",
    "                                    image_np,\n",
    "                                    output_dict['detection_boxes'],\n",
    "                                    output_dict['detection_classes'],\n",
    "                                    output_dict['detection_scores'],\n",
    "                                    category_index,\n",
    "                                    use_normalized_coordinates=True,\n",
    "                                    min_score_thresh=minimum_threshold,\n",
    "                                    line_thickness=8,\n",
    "                                    max_boxes_to_draw=3)\n",
    "                                plt.imshow(image_np)\n",
    "                                plt.pause(0.001) # imshow needs time to plot the image. Need this to display the image\n",
    "                                \n",
    "            except queue.Empty:\n",
    "                pass"
   ]
  },
  {
   "cell_type": "code",
   "execution_count": 8,
   "metadata": {},
   "outputs": [],
   "source": [
    "def obj_check(go_box):\n",
    "    '''\n",
    "    tf documentation is wrong --\n",
    "    order is not: [ymin, ymax, xmin, xmax]\n",
    "    order IS: [ymin, xmin, ymax, xmax]\n",
    "    '''\n",
    "    ymin = go_box[0]\n",
    "    xmin = go_box[1]\n",
    "    ymax = go_box[2]\n",
    "    xmax = go_box[3]\n",
    "    height = ymax - ymin\n",
    "    width = xmax - xmin\n",
    "    area = height * width    \n",
    "    x_center = (width/2) + xmin\n",
    "    y_center = (height/2) + ymin\n",
    "    # the condition that determines if a bounding box contains an object\n",
    "    if area > 0.08: \n",
    "#         print('check failed!')\n",
    "        return (False, y_center, x_center)\n",
    "    else: \n",
    "#         print('check passed')\n",
    "        return (True, y_center, x_center)"
   ]
  },
  {
   "cell_type": "code",
   "execution_count": 9,
   "metadata": {},
   "outputs": [],
   "source": [
    "import PIL\n",
    "from PIL import ImageDraw, ImageFont, Image\n",
    "def crop_ADD_image(box, img:PIL.Image):\n",
    "    '''\n",
    "    given a likely object; \n",
    "    crop box --> to conv-net --> lang model\n",
    "    OR, if predicting, crop box --> conv-net --> retrieve prediction + lang model\n",
    "    '''\n",
    "    # 8-10 from s19/Model.py\n",
    "    size = 224\n",
    "    \n",
    "    img_resized = img.resize(size=(size, size))    \n",
    "    cleanImg = img_resized.copy();\n",
    "    \n",
    "    bottom = box[0] * 224\n",
    "    left = box[1] * 224\n",
    "    top = box[2] * 224\n",
    "    right  = box[3] * 224\n",
    "    # these box coordinates are not appropriate for the formatting task...\n",
    "    \n",
    "    formattedBox = (int(left), int(bottom), int(right), int(top)) # coordinates need to be corrected for crop\n",
    "    \n",
    "    print('crop here:', formattedBox)\n",
    "    print('clean image type:', type(cleanImg))\n",
    "    \n",
    "    croppedImg = cleanImg.crop(formattedBox)\n",
    "    croppedImg.load()\n",
    "    croppedImg = np.array(croppedImg) \n",
    "    croppedImg = croppedImg[:, :, ::-1].copy()\n",
    "    languageFeed.append(croppedImg) "
   ]
  },
  {
   "cell_type": "code",
   "execution_count": 10,
   "metadata": {},
   "outputs": [],
   "source": [
    "def find_coordinates(go_box):\n",
    "    real_obj = obj_check(go_box)    \n",
    "    x_center = real_obj[2]\n",
    "    y_center = real_obj[1]\n",
    "    print('y:', y_center, 'x:', x_center)\n",
    "    if not real_obj[0]: # break 'go_to' loop\n",
    "        drive_dist = 1000 \n",
    "        turn_angle = 1000\n",
    "    else:\n",
    "        # we want x_center to be 0.5, turn right -> (-) / turn left -> (+)\n",
    "        if x_center > 0.56 or x_center < 0.44:\n",
    "            x_diff = x_center - 0.5\n",
    "            turn_angle = (x_diff * (-50)) / 2 \n",
    "        else: turn_angle = 0 # break 'go_to' loop\n",
    "        # we want y-center to be = 0.42, (-) -> backwards, (+) -> forwards   \n",
    "        if y_center > 0.48 or y_center < 0.36:\n",
    "            y_diff = y_center - 0.42\n",
    "            # need to account for parallax -- things far away approach slowly; things close up approach quickly\n",
    "            base = y_diff * (-10)\n",
    "            drive_dist = np.power(base,4)\n",
    "        else: drive_dist = 0 # break 'go_to' loop\n",
    "    return drive_dist, turn_angle\n",
    "\n",
    "def go_to_obj(robot):    \n",
    "    last_drive = 1000\n",
    "    last_turn = 1000\n",
    "    while True:\n",
    "        if not objQueue.empty():\n",
    "            box = objQueue.get()\n",
    "            print(\"go to \", box)\n",
    "            drive_dist, turn_angle = find_coordinates(box)\n",
    "            print('turned ', turn_angle, 'degrees', '/ drove', drive_dist,'mm')\n",
    "            # these conditions break 'go_to' loop\n",
    "            if drive_dist > last_drive: break\n",
    "            elif turn_angle > last_turn: break\n",
    "            if turn_angle == 0 and drive_dist == 0: break\n",
    "            robot.turn_in_place(degrees(turn_angle),in_parallel=True)\n",
    "            robot.wait_for_all_actions_completed()  \n",
    "            last_turn = turn_angle\n",
    "            \n",
    "            robot.drive_straight(distance_mm(drive_dist), speed_mmps(40), should_play_anim=False, in_parallel=True)\n",
    "            last_drive = drive_dist\n",
    "            robot.wait_for_all_actions_completed()  \n",
    "    print('Stop going to object')\n",
    "    return drive_dist, turn_angle "
   ]
  },
  {
   "cell_type": "code",
   "execution_count": 11,
   "metadata": {},
   "outputs": [],
   "source": [
    "import random\n",
    "def find_object(robot):\n",
    "    print('Find objects started')\n",
    "    \n",
    "    confidence = 0 # added for language prediction\n",
    "    find = True\n",
    "    while find:\n",
    "        if objQueue.empty():\n",
    "#             robot.turn_in_place(degrees(360), speed=Angle(0.3), accel=Angle(0.3))\n",
    "            robot.drive_wheels(l_wheel_speed=-10, r_wheel_speed=10)\n",
    "        else:\n",
    "            robot.stop_all_motors()\n",
    "            robot.wait_for_all_actions_completed()\n",
    "            # the 'go to object reorientation loop'\n",
    "            predicting = False\n",
    "            drive, turn = go_to_obj(robot)\n",
    "            if drive == 0 and turn == 0:  \n",
    "                print('Object found!')\n",
    "                predict(robot)\n",
    "                find = False\n",
    "            else: #drive == 1000 and turn == 1000\n",
    "                print('find object failed') \n",
    "                predict(robot)\n",
    "                # emote CONFUSED\n",
    "                pass\n",
    "            print('return to object search')\n",
    "\n",
    "#     predicting = True # predict in this instance"
   ]
  },
  {
   "cell_type": "code",
   "execution_count": 12,
   "metadata": {},
   "outputs": [],
   "source": [
    "def cozmo_program(robot: cozmo.robot.Robot):\n",
    "    print('starting pose',robot.pose)\n",
    "    robot.clear_idle_animation()\n",
    "    robot.stop_freeplay_behaviors()\n",
    "    robot.set_idle_animation(cozmo.anim.Triggers.NeutralFace)   \n",
    "    robot.set_lift_height(1.0).wait_for_completed()\n",
    "    robot.set_head_angle(cozmo.robot.MIN_HEAD_ANGLE).wait_for_completed()\n",
    "\n",
    "    exposure_amount = 0.1 # Range: [0,1]\n",
    "    gain_amount = 1.0 # Range: [0,1]\n",
    "    color = True\n",
    "    configure_camera(robot, exposure_amount, gain_amount, color)\n",
    "    \n",
    "    robot.add_event_handler(cozmo.camera.EvtNewRawCameraImage, handle_image)\n",
    "    print(\"Added event handler\")\n",
    "    \n",
    "    minimum_threshold = 0.10\n",
    "    \n",
    "    threading.Thread(target=find_object, args=(robot,)).start()\n",
    "    threading.Thread(target=detect_object, args=(robot,minimum_threshold,)).start() # \n",
    "    \n",
    "    while True:\n",
    "        time.sleep(0.1)"
   ]
  },
  {
   "cell_type": "code",
   "execution_count": 13,
   "metadata": {},
   "outputs": [],
   "source": [
    "%matplotlib inline"
   ]
  },
  {
   "cell_type": "code",
   "execution_count": 15,
   "metadata": {
    "scrolled": true
   },
   "outputs": [
    {
     "name": "stderr",
     "output_type": "stream",
     "text": [
      "2019-12-11 14:22:36,861 cozmo.general INFO     App connection established. sdk_version=1.4.11.dev0 cozmoclad_version=3.4.0 app_build_version=00003.00004.00000\n",
      "2019-12-11 14:22:36,861 cozmo.general INFO     App connection established. sdk_version=1.4.11.dev0 cozmoclad_version=3.4.0 app_build_version=00003.00004.00000\n",
      "2019-12-11 14:22:36,960 cozmo.general INFO     Found robot id=1\n",
      "2019-12-11 14:22:36,960 cozmo.general INFO     Found robot id=1\n",
      "2019-12-11 14:22:37,189 cozmo.general INFO     Connected to Android device serial=03160355293b2004\n",
      "2019-12-11 14:22:37,189 cozmo.general INFO     Connected to Android device serial=03160355293b2004\n",
      "2019-12-11 14:22:37,306 cozmo.general INFO     Robot id=1 serial=024086a7 initialized OK\n",
      "2019-12-11 14:22:37,306 cozmo.general INFO     Robot id=1 serial=024086a7 initialized OK\n",
      "2019-12-11 14:22:37,676 cozmo.general INFO     Sending abort request for all actions\n",
      "2019-12-11 14:22:37,676 cozmo.general INFO     Sending abort request for all actions\n"
     ]
    },
    {
     "name": "stdout",
     "output_type": "stream",
     "text": [
      "starting pose <Pose <Position x: 0.00 y: 0.00 z: 0.00> <Quaternion q0: 0.99 q1: 0.00 q2: 0.00 q3: -0.15 (angle_z: <Angle -0.30 radians (-17.45 degrees)>)> origin_id=93>\n"
     ]
    },
    {
     "name": "stderr",
     "output_type": "stream",
     "text": [
      "Exception in Tkinter callback\n",
      "Traceback (most recent call last):\n",
      "  File \"/home/david/anaconda3/envs/cozmo/lib/python3.7/tkinter/__init__.py\", line 1705, in __call__\n",
      "    return self.func(*args)\n",
      "  File \"/home/david/anaconda3/envs/cozmo/lib/python3.7/tkinter/__init__.py\", line 749, in callit\n",
      "    func(*args)\n",
      "  File \"/home/david/GIT/cozmo-python-sdk/src/cozmo/tkview.py\", line 164, in _repeat_draw_frame\n",
      "    self._draw_frame()\n",
      "  File \"/home/david/GIT/cozmo-python-sdk/src/cozmo/tkview.py\", line 158, in _draw_frame\n",
      "    self.label.configure(image=photoImage)\n",
      "  File \"/home/david/anaconda3/envs/cozmo/lib/python3.7/tkinter/__init__.py\", line 1485, in configure\n",
      "    return self._configure('configure', cnf, kw)\n",
      "  File \"/home/david/anaconda3/envs/cozmo/lib/python3.7/tkinter/__init__.py\", line 1476, in _configure\n",
      "    self.tk.call(_flatten((self._w, cmd)) + self._options(cnf))\n",
      "_tkinter.TclError: image \"pyimage487\" doesn't exist\n"
     ]
    },
    {
     "name": "stdout",
     "output_type": "stream",
     "text": [
      "Added event handler\n",
      "Find objects started\n",
      "Detect Images started\n",
      "crop here: (180, 2, 224, 20)\n",
      "clean image type: <class 'PIL.Image.Image'>\n",
      "go to  [0.0092762  0.8056385  0.09055956 1.        ]\n",
      "y: 0.04991787951439619 x: 0.9028192460536957\n",
      "turned  -10.070481151342392 degrees / drove 187.5825413598492 mm\n",
      "crop here: (180, 2, 224, 19)\n",
      "clean image type: <class 'PIL.Image.Image'>\n"
     ]
    },
    {
     "data": {
      "image/png": "[encoded data removed]",
      "text/plain": [
       "<Figure size 432x288 with 1 Axes>"
      ]
     },
     "metadata": {
      "needs_background": "light"
     },
     "output_type": "display_data"
    },
    {
     "ename": "IndexError",
     "evalue": "list index out of range",
     "output_type": "error",
     "traceback": [
      "\u001b[0;31m---------------------------------------------------------------------------\u001b[0m",
      "\u001b[0;31mIndexError\u001b[0m                                Traceback (most recent call last)",
      "\u001b[0;32m~/anaconda3/envs/cozmo/lib/python3.7/site-packages/IPython/core/formatters.py\u001b[0m in \u001b[0;36m__call__\u001b[0;34m(self, obj)\u001b[0m\n\u001b[1;32m    339\u001b[0m                 \u001b[0;32mpass\u001b[0m\u001b[0;34m\u001b[0m\u001b[0;34m\u001b[0m\u001b[0m\n\u001b[1;32m    340\u001b[0m             \u001b[0;32melse\u001b[0m\u001b[0;34m:\u001b[0m\u001b[0;34m\u001b[0m\u001b[0;34m\u001b[0m\u001b[0m\n\u001b[0;32m--> 341\u001b[0;31m                 \u001b[0;32mreturn\u001b[0m \u001b[0mprinter\u001b[0m\u001b[0;34m(\u001b[0m\u001b[0mobj\u001b[0m\u001b[0;34m)\u001b[0m\u001b[0;34m\u001b[0m\u001b[0;34m\u001b[0m\u001b[0m\n\u001b[0m\u001b[1;32m    342\u001b[0m             \u001b[0;31m# Finally look for special method names\u001b[0m\u001b[0;34m\u001b[0m\u001b[0;34m\u001b[0m\u001b[0;34m\u001b[0m\u001b[0m\n\u001b[1;32m    343\u001b[0m             \u001b[0mmethod\u001b[0m \u001b[0;34m=\u001b[0m \u001b[0mget_real_method\u001b[0m\u001b[0;34m(\u001b[0m\u001b[0mobj\u001b[0m\u001b[0;34m,\u001b[0m \u001b[0mself\u001b[0m\u001b[0;34m.\u001b[0m\u001b[0mprint_method\u001b[0m\u001b[0;34m)\u001b[0m\u001b[0;34m\u001b[0m\u001b[0;34m\u001b[0m\u001b[0m\n",
      "\u001b[0;32m~/anaconda3/envs/cozmo/lib/python3.7/site-packages/IPython/core/pylabtools.py\u001b[0m in \u001b[0;36m<lambda>\u001b[0;34m(fig)\u001b[0m\n\u001b[1;32m    242\u001b[0m \u001b[0;34m\u001b[0m\u001b[0m\n\u001b[1;32m    243\u001b[0m     \u001b[0;32mif\u001b[0m \u001b[0;34m'png'\u001b[0m \u001b[0;32min\u001b[0m \u001b[0mformats\u001b[0m\u001b[0;34m:\u001b[0m\u001b[0;34m\u001b[0m\u001b[0;34m\u001b[0m\u001b[0m\n\u001b[0;32m--> 244\u001b[0;31m         \u001b[0mpng_formatter\u001b[0m\u001b[0;34m.\u001b[0m\u001b[0mfor_type\u001b[0m\u001b[0;34m(\u001b[0m\u001b[0mFigure\u001b[0m\u001b[0;34m,\u001b[0m \u001b[0;32mlambda\u001b[0m \u001b[0mfig\u001b[0m\u001b[0;34m:\u001b[0m \u001b[0mprint_figure\u001b[0m\u001b[0;34m(\u001b[0m\u001b[0mfig\u001b[0m\u001b[0;34m,\u001b[0m \u001b[0;34m'png'\u001b[0m\u001b[0;34m,\u001b[0m \u001b[0;34m**\u001b[0m\u001b[0mkwargs\u001b[0m\u001b[0;34m)\u001b[0m\u001b[0;34m)\u001b[0m\u001b[0;34m\u001b[0m\u001b[0;34m\u001b[0m\u001b[0m\n\u001b[0m\u001b[1;32m    245\u001b[0m     \u001b[0;32mif\u001b[0m \u001b[0;34m'retina'\u001b[0m \u001b[0;32min\u001b[0m \u001b[0mformats\u001b[0m \u001b[0;32mor\u001b[0m \u001b[0;34m'png2x'\u001b[0m \u001b[0;32min\u001b[0m \u001b[0mformats\u001b[0m\u001b[0;34m:\u001b[0m\u001b[0;34m\u001b[0m\u001b[0;34m\u001b[0m\u001b[0m\n\u001b[1;32m    246\u001b[0m         \u001b[0mpng_formatter\u001b[0m\u001b[0;34m.\u001b[0m\u001b[0mfor_type\u001b[0m\u001b[0;34m(\u001b[0m\u001b[0mFigure\u001b[0m\u001b[0;34m,\u001b[0m \u001b[0;32mlambda\u001b[0m \u001b[0mfig\u001b[0m\u001b[0;34m:\u001b[0m \u001b[0mretina_figure\u001b[0m\u001b[0;34m(\u001b[0m\u001b[0mfig\u001b[0m\u001b[0;34m,\u001b[0m \u001b[0;34m**\u001b[0m\u001b[0mkwargs\u001b[0m\u001b[0;34m)\u001b[0m\u001b[0;34m)\u001b[0m\u001b[0;34m\u001b[0m\u001b[0;34m\u001b[0m\u001b[0m\n",
      "\u001b[0;32m~/anaconda3/envs/cozmo/lib/python3.7/site-packages/IPython/core/pylabtools.py\u001b[0m in \u001b[0;36mprint_figure\u001b[0;34m(fig, fmt, bbox_inches, **kwargs)\u001b[0m\n\u001b[1;32m    126\u001b[0m \u001b[0;34m\u001b[0m\u001b[0m\n\u001b[1;32m    127\u001b[0m     \u001b[0mbytes_io\u001b[0m \u001b[0;34m=\u001b[0m \u001b[0mBytesIO\u001b[0m\u001b[0;34m(\u001b[0m\u001b[0;34m)\u001b[0m\u001b[0;34m\u001b[0m\u001b[0;34m\u001b[0m\u001b[0m\n\u001b[0;32m--> 128\u001b[0;31m     \u001b[0mfig\u001b[0m\u001b[0;34m.\u001b[0m\u001b[0mcanvas\u001b[0m\u001b[0;34m.\u001b[0m\u001b[0mprint_figure\u001b[0m\u001b[0;34m(\u001b[0m\u001b[0mbytes_io\u001b[0m\u001b[0;34m,\u001b[0m \u001b[0;34m**\u001b[0m\u001b[0mkw\u001b[0m\u001b[0;34m)\u001b[0m\u001b[0;34m\u001b[0m\u001b[0;34m\u001b[0m\u001b[0m\n\u001b[0m\u001b[1;32m    129\u001b[0m     \u001b[0mdata\u001b[0m \u001b[0;34m=\u001b[0m \u001b[0mbytes_io\u001b[0m\u001b[0;34m.\u001b[0m\u001b[0mgetvalue\u001b[0m\u001b[0;34m(\u001b[0m\u001b[0;34m)\u001b[0m\u001b[0;34m\u001b[0m\u001b[0;34m\u001b[0m\u001b[0m\n\u001b[1;32m    130\u001b[0m     \u001b[0;32mif\u001b[0m \u001b[0mfmt\u001b[0m \u001b[0;34m==\u001b[0m \u001b[0;34m'svg'\u001b[0m\u001b[0;34m:\u001b[0m\u001b[0;34m\u001b[0m\u001b[0;34m\u001b[0m\u001b[0m\n",
      "\u001b[0;32m~/anaconda3/envs/cozmo/lib/python3.7/site-packages/matplotlib-3.1.1+2299.g19d589cf9-py3.7-linux-x86_64.egg/matplotlib/backend_bases.py\u001b[0m in \u001b[0;36mprint_figure\u001b[0;34m(self, filename, dpi, facecolor, edgecolor, orientation, format, bbox_inches, **kwargs)\u001b[0m\n\u001b[1;32m   2066\u001b[0m                     \u001b[0mbbox_artists\u001b[0m \u001b[0;34m=\u001b[0m \u001b[0mkwargs\u001b[0m\u001b[0;34m.\u001b[0m\u001b[0mpop\u001b[0m\u001b[0;34m(\u001b[0m\u001b[0;34m\"bbox_extra_artists\"\u001b[0m\u001b[0;34m,\u001b[0m \u001b[0;32mNone\u001b[0m\u001b[0;34m)\u001b[0m\u001b[0;34m\u001b[0m\u001b[0;34m\u001b[0m\u001b[0m\n\u001b[1;32m   2067\u001b[0m                     bbox_inches = self.figure.get_tightbbox(renderer,\n\u001b[0;32m-> 2068\u001b[0;31m                             bbox_extra_artists=bbox_artists)\n\u001b[0m\u001b[1;32m   2069\u001b[0m                     \u001b[0mpad\u001b[0m \u001b[0;34m=\u001b[0m \u001b[0mkwargs\u001b[0m\u001b[0;34m.\u001b[0m\u001b[0mpop\u001b[0m\u001b[0;34m(\u001b[0m\u001b[0;34m\"pad_inches\"\u001b[0m\u001b[0;34m,\u001b[0m \u001b[0;32mNone\u001b[0m\u001b[0;34m)\u001b[0m\u001b[0;34m\u001b[0m\u001b[0;34m\u001b[0m\u001b[0m\n\u001b[1;32m   2070\u001b[0m                     \u001b[0;32mif\u001b[0m \u001b[0mpad\u001b[0m \u001b[0;32mis\u001b[0m \u001b[0;32mNone\u001b[0m\u001b[0;34m:\u001b[0m\u001b[0;34m\u001b[0m\u001b[0;34m\u001b[0m\u001b[0m\n",
      "\u001b[0;32m~/anaconda3/envs/cozmo/lib/python3.7/site-packages/matplotlib-3.1.1+2299.g19d589cf9-py3.7-linux-x86_64.egg/matplotlib/figure.py\u001b[0m in \u001b[0;36mget_tightbbox\u001b[0;34m(self, renderer, bbox_extra_artists)\u001b[0m\n\u001b[1;32m   2369\u001b[0m                 \u001b[0;32mtry\u001b[0m\u001b[0;34m:\u001b[0m\u001b[0;34m\u001b[0m\u001b[0;34m\u001b[0m\u001b[0m\n\u001b[1;32m   2370\u001b[0m                     bbox = ax.get_tightbbox(renderer,\n\u001b[0;32m-> 2371\u001b[0;31m                             bbox_extra_artists=bbox_extra_artists)\n\u001b[0m\u001b[1;32m   2372\u001b[0m                 \u001b[0;32mexcept\u001b[0m \u001b[0mTypeError\u001b[0m\u001b[0;34m:\u001b[0m\u001b[0;34m\u001b[0m\u001b[0;34m\u001b[0m\u001b[0m\n\u001b[1;32m   2373\u001b[0m                     \u001b[0mbbox\u001b[0m \u001b[0;34m=\u001b[0m \u001b[0max\u001b[0m\u001b[0;34m.\u001b[0m\u001b[0mget_tightbbox\u001b[0m\u001b[0;34m(\u001b[0m\u001b[0mrenderer\u001b[0m\u001b[0;34m)\u001b[0m\u001b[0;34m\u001b[0m\u001b[0;34m\u001b[0m\u001b[0m\n",
      "\u001b[0;32m~/anaconda3/envs/cozmo/lib/python3.7/site-packages/matplotlib-3.1.1+2299.g19d589cf9-py3.7-linux-x86_64.egg/matplotlib/axes/_base.py\u001b[0m in \u001b[0;36mget_tightbbox\u001b[0;34m(self, renderer, call_axes_locator, bbox_extra_artists)\u001b[0m\n\u001b[1;32m   4370\u001b[0m                 \u001b[0mbb\u001b[0m\u001b[0;34m.\u001b[0m\u001b[0mappend\u001b[0m\u001b[0;34m(\u001b[0m\u001b[0mbb_yaxis\u001b[0m\u001b[0;34m)\u001b[0m\u001b[0;34m\u001b[0m\u001b[0;34m\u001b[0m\u001b[0m\n\u001b[1;32m   4371\u001b[0m \u001b[0;34m\u001b[0m\u001b[0m\n\u001b[0;32m-> 4372\u001b[0;31m         \u001b[0mself\u001b[0m\u001b[0;34m.\u001b[0m\u001b[0m_update_title_position\u001b[0m\u001b[0;34m(\u001b[0m\u001b[0mrenderer\u001b[0m\u001b[0;34m)\u001b[0m\u001b[0;34m\u001b[0m\u001b[0;34m\u001b[0m\u001b[0m\n\u001b[0m\u001b[1;32m   4373\u001b[0m         \u001b[0maxbbox\u001b[0m \u001b[0;34m=\u001b[0m \u001b[0mself\u001b[0m\u001b[0;34m.\u001b[0m\u001b[0mget_window_extent\u001b[0m\u001b[0;34m(\u001b[0m\u001b[0mrenderer\u001b[0m\u001b[0;34m)\u001b[0m\u001b[0;34m\u001b[0m\u001b[0;34m\u001b[0m\u001b[0m\n\u001b[1;32m   4374\u001b[0m         \u001b[0mbb\u001b[0m\u001b[0;34m.\u001b[0m\u001b[0mappend\u001b[0m\u001b[0;34m(\u001b[0m\u001b[0maxbbox\u001b[0m\u001b[0;34m)\u001b[0m\u001b[0;34m\u001b[0m\u001b[0;34m\u001b[0m\u001b[0m\n",
      "\u001b[0;32m~/anaconda3/envs/cozmo/lib/python3.7/site-packages/matplotlib-3.1.1+2299.g19d589cf9-py3.7-linux-x86_64.egg/matplotlib/axes/_base.py\u001b[0m in \u001b[0;36m_update_title_position\u001b[0;34m(self, renderer)\u001b[0m\n\u001b[1;32m   2592\u001b[0m             \u001b[0mtop\u001b[0m \u001b[0;34m=\u001b[0m \u001b[0;36m0\u001b[0m\u001b[0;34m\u001b[0m\u001b[0;34m\u001b[0m\u001b[0m\n\u001b[1;32m   2593\u001b[0m             \u001b[0;32mfor\u001b[0m \u001b[0max\u001b[0m \u001b[0;32min\u001b[0m \u001b[0maxs\u001b[0m\u001b[0;34m:\u001b[0m\u001b[0;34m\u001b[0m\u001b[0;34m\u001b[0m\u001b[0m\n\u001b[0;32m-> 2594\u001b[0;31m                 if (ax.xaxis.get_ticks_position() in ['top', 'unknown']\n\u001b[0m\u001b[1;32m   2595\u001b[0m                         or ax.xaxis.get_label_position() == 'top'):\n\u001b[1;32m   2596\u001b[0m                     \u001b[0mbb\u001b[0m \u001b[0;34m=\u001b[0m \u001b[0max\u001b[0m\u001b[0;34m.\u001b[0m\u001b[0mxaxis\u001b[0m\u001b[0;34m.\u001b[0m\u001b[0mget_tightbbox\u001b[0m\u001b[0;34m(\u001b[0m\u001b[0mrenderer\u001b[0m\u001b[0;34m)\u001b[0m\u001b[0;34m\u001b[0m\u001b[0;34m\u001b[0m\u001b[0m\n",
      "\u001b[0;32m~/anaconda3/envs/cozmo/lib/python3.7/site-packages/matplotlib-3.1.1+2299.g19d589cf9-py3.7-linux-x86_64.egg/matplotlib/axis.py\u001b[0m in \u001b[0;36mget_ticks_position\u001b[0;34m(self)\u001b[0m\n\u001b[1;32m   2157\u001b[0m         return {1: \"bottom\", 2: \"top\",\n\u001b[1;32m   2158\u001b[0m                 \u001b[0;34m\"default\"\u001b[0m\u001b[0;34m:\u001b[0m \u001b[0;34m\"default\"\u001b[0m\u001b[0;34m,\u001b[0m \u001b[0;34m\"unknown\"\u001b[0m\u001b[0;34m:\u001b[0m \u001b[0;34m\"unknown\"\u001b[0m\u001b[0;34m}\u001b[0m\u001b[0;34m[\u001b[0m\u001b[0;34m\u001b[0m\u001b[0;34m\u001b[0m\u001b[0m\n\u001b[0;32m-> 2159\u001b[0;31m                     self._get_ticks_position()]\n\u001b[0m\u001b[1;32m   2160\u001b[0m \u001b[0;34m\u001b[0m\u001b[0m\n\u001b[1;32m   2161\u001b[0m     get_view_interval, set_view_interval = _make_getset_interval(\n",
      "\u001b[0;32m~/anaconda3/envs/cozmo/lib/python3.7/site-packages/matplotlib-3.1.1+2299.g19d589cf9-py3.7-linux-x86_64.egg/matplotlib/axis.py\u001b[0m in \u001b[0;36m_get_ticks_position\u001b[0;34m(self)\u001b[0m\n\u001b[1;32m   1846\u001b[0m         \u001b[0;34m-\u001b[0m \u001b[0;34m\"unknown\"\u001b[0m \u001b[0motherwise\u001b[0m\u001b[0;34m.\u001b[0m\u001b[0;34m\u001b[0m\u001b[0;34m\u001b[0m\u001b[0m\n\u001b[1;32m   1847\u001b[0m         \"\"\"\n\u001b[0;32m-> 1848\u001b[0;31m         \u001b[0mmajor\u001b[0m \u001b[0;34m=\u001b[0m \u001b[0mself\u001b[0m\u001b[0;34m.\u001b[0m\u001b[0mmajorTicks\u001b[0m\u001b[0;34m[\u001b[0m\u001b[0;36m0\u001b[0m\u001b[0;34m]\u001b[0m\u001b[0;34m\u001b[0m\u001b[0;34m\u001b[0m\u001b[0m\n\u001b[0m\u001b[1;32m   1849\u001b[0m         \u001b[0mminor\u001b[0m \u001b[0;34m=\u001b[0m \u001b[0mself\u001b[0m\u001b[0;34m.\u001b[0m\u001b[0mminorTicks\u001b[0m\u001b[0;34m[\u001b[0m\u001b[0;36m0\u001b[0m\u001b[0;34m]\u001b[0m\u001b[0;34m\u001b[0m\u001b[0;34m\u001b[0m\u001b[0m\n\u001b[1;32m   1850\u001b[0m         if all(tick.tick1line.get_visible()\n",
      "\u001b[0;31mIndexError\u001b[0m: list index out of range"
     ]
    },
    {
     "data": {
      "text/plain": [
       "<Figure size 432x288 with 1 Axes>"
      ]
     },
     "metadata": {
      "needs_background": "light"
     },
     "output_type": "display_data"
    },
    {
     "name": "stdout",
     "output_type": "stream",
     "text": [
      "go to  [0.01052711 0.8064858  0.08762731 1.        ]\n",
      "y: 0.04907721187919378 x: 0.9032428860664368\n",
      "turned  -10.08107215166092 degrees / drove 189.2927856366985 mm\n",
      "Stop going to object\n",
      "find object failed\n"
     ]
    },
    {
     "name": "stderr",
     "output_type": "stream",
     "text": [
      "Exception in Tkinter callback\n",
      "Traceback (most recent call last):\n",
      "  File \"/home/david/anaconda3/envs/cozmo/lib/python3.7/tkinter/__init__.py\", line 1705, in __call__\n",
      "    return self.func(*args)\n",
      "  File \"/home/david/anaconda3/envs/cozmo/lib/python3.7/tkinter/__init__.py\", line 749, in callit\n",
      "    func(*args)\n",
      "  File \"/home/david/GIT/cozmo-python-sdk/src/cozmo/tkview.py\", line 67, in _thread_call_dispatch\n",
      "    self.after(50, self._thread_call_dispatch)\n",
      "  File \"/home/david/anaconda3/envs/cozmo/lib/python3.7/tkinter/__init__.py\", line 757, in after\n",
      "    return self.tk.call('after', ms, name)\n",
      "KeyboardInterrupt\n",
      "Exception in thread Thread-9:\n",
      "Traceback (most recent call last):\n",
      "  File \"/home/david/anaconda3/envs/cozmo/lib/python3.7/threading.py\", line 926, in _bootstrap_inner\n",
      "    self.run()\n",
      "  File \"/home/david/anaconda3/envs/cozmo/lib/python3.7/threading.py\", line 870, in run\n",
      "    self._target(*self._args, **self._kwargs)\n",
      "  File \"<ipython-input-11-3423345e7307>\", line 23, in find_object\n",
      "    predict(robot)\n",
      "  File \"<ipython-input-2-fd3ed82f3c0b>\", line 17, in predict\n",
      "    robot.say_text(prediction).wait_for_completed()\n",
      "  File \"/home/david/GIT/cozmo-python-sdk/src/cozmo/base.py\", line 179, in wrap\n",
      "    return  _dispatch_coroutine(value(*a, **kw), wrapped._loop, wrapped._sync_abort_future)\n",
      "  File \"/home/david/GIT/cozmo-python-sdk/src/cozmo/base.py\", line 234, in _dispatch_coroutine\n",
      "    result =  list(result.done)[0].result()\n",
      "  File \"/home/david/anaconda3/envs/cozmo/lib/python3.7/concurrent/futures/_base.py\", line 428, in result\n",
      "    return self.__get_result()\n",
      "  File \"/home/david/anaconda3/envs/cozmo/lib/python3.7/concurrent/futures/_base.py\", line 384, in __get_result\n",
      "    raise self._exception\n",
      "src.cozmo.exceptions.SDKShutdown: KeyboardInterrupt()\n",
      "\n",
      "2019-12-11 14:22:51,066 cozmo.general INFO     Shutting down connection\n",
      "2019-12-11 14:22:51,066 cozmo.general INFO     Shutting down connection\n",
      "2019-12-11 14:22:51,068 cozmo.general INFO     Android serial=03160355293b2004 disconnected.\n",
      "2019-12-11 14:22:51,068 cozmo.general INFO     Android serial=03160355293b2004 disconnected.\n",
      "2019-12-11 14:22:51,124 cozmo.general INFO     Exit requested by user\n",
      "2019-12-11 14:22:51,124 cozmo.general INFO     Exit requested by user\n"
     ]
    }
   ],
   "source": [
    "import collections\n",
    "imageQueue = queue.Queue(maxsize=1)\n",
    "objQueue = queue.Queue(maxsize=1)\n",
    "languageFeed = collections.deque(maxlen=8)\n",
    "\n",
    "cozmo.run_program(cozmo_program, use_viewer=True)"
   ]
  },
  {
   "cell_type": "markdown",
   "metadata": {},
   "source": [
    "______________________"
   ]
  },
  {
   "cell_type": "markdown",
   "metadata": {},
   "source": [
    "**Good neutral animations?**\n",
    "\n",
    "    # DroneModeIdle, 161\n",
    "    # NeutralFace, 326\n",
    "    # OnboardingIdle, 362\n",
    "    # VC_NoFollowupCommand_NoFace, 549"
   ]
  }
 ],
 "metadata": {
  "kernelspec": {
   "display_name": "Python 3",
   "language": "python",
   "name": "python3"
  },
  "language_info": {
   "codemirror_mode": {
    "name": "ipython",
    "version": 3
   },
   "file_extension": ".py",
   "mimetype": "text/x-python",
   "name": "python",
   "nbconvert_exporter": "python",
   "pygments_lexer": "ipython3",
   "version": "3.7.3"
  }
 },
 "nbformat": 4,
 "nbformat_minor": 2
}

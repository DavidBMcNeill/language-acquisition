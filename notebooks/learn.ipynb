{
 "cells": [
  {
   "cell_type": "markdown",
   "metadata": {},
   "source": [
    "# COZMO Q-Learning!"
   ]
  },
  {
   "cell_type": "markdown",
   "metadata": {},
   "source": [
    "## Define possible states\n",
    "\n",
    "If the goal is for Cozmo to 'LEARN' as many words as possible ('learned' from Wittgenstein meaning 'able to use')\n",
    "\n",
    "**EXPLORATION Q TABLE**:\n",
    "Every word that Cozmo has heard. \n",
    "[let's stick with the colors of pentominoes]\n",
    "\n",
    "1. Green\n",
    "2. Orange\n",
    "3. Yellow\n",
    "4. Red\n",
    "5. Purple\n",
    "6. Blue"
   ]
  },
  {
   "cell_type": "code",
   "execution_count": 4,
   "metadata": {},
   "outputs": [],
   "source": [
    "state_size = 6"
   ]
  },
  {
   "cell_type": "markdown",
   "metadata": {},
   "source": [
    "## Define possible actions\n",
    "\n",
    "1. Find object\n",
    "2. Find face\n",
    "3. Move to object\n",
    "4. Move to face\n",
    "5. Emote [?] "
   ]
  },
  {
   "cell_type": "code",
   "execution_count": 3,
   "metadata": {},
   "outputs": [],
   "source": [
    "action_size = 5"
   ]
  },
  {
   "cell_type": "code",
   "execution_count": 2,
   "metadata": {},
   "outputs": [],
   "source": [
    "'''\n",
    "From Thomas Simonioni's (& lukewys) Q Learning tutorials\n",
    "'''\n",
    "import numpy as np\n",
    "import gym\n",
    "import random"
   ]
  },
  {
   "cell_type": "markdown",
   "metadata": {},
   "source": [
    "## Create Environment for Language Learning Game\n",
    "\n",
    "**What does an environment need?**\n",
    "\n",
    "Environment [from the Medium article]: \n",
    "* everything which isn't the *Agent*,\n",
    "* everything the Agent can interact with (directly or indirectly),\n",
    "* changes as the Agent performs *actions*\n",
    "* every change is a *state*-transition\n",
    "* every action the Agent performs yields a *reward* received by the Agent"
   ]
  },
  {
   "cell_type": "markdown",
   "metadata": {},
   "source": [
    "## Create Q Table\n",
    "- The # of rows = the # of states\n",
    "- The # of columns = the # of actions"
   ]
  },
  {
   "cell_type": "code",
   "execution_count": 5,
   "metadata": {},
   "outputs": [],
   "source": [
    "qtable = np.zeros((state_size, action_size))"
   ]
  },
  {
   "cell_type": "markdown",
   "metadata": {},
   "source": [
    "## 3. Create hyperparameters"
   ]
  },
  {
   "cell_type": "code",
   "execution_count": 6,
   "metadata": {},
   "outputs": [],
   "source": [
    "total_episodes = 100      # total episodes\n",
    "learning_rate = 0.8       # learning rate\n",
    "max_steps = 5             # max steps per episode\n",
    "gamma = 0.95              # discounting rate\n",
    "\n",
    "# Exploration parameters\n",
    "epsilon = 1.0             # exploration rate\n",
    "max_epsilon = 1.0         # expl prob at start\n",
    "min_epsilon = 0.01        # min expl prob \n",
    "decay_rate = 0.001        # exponential decay rate for expl prob?"
   ]
  },
  {
   "cell_type": "markdown",
   "metadata": {},
   "source": [
    "## 4. Q-Learning algorithm"
   ]
  },
  {
   "cell_type": "code",
   "execution_count": 7,
   "metadata": {},
   "outputs": [],
   "source": [
    "# list of rewards\n",
    "rewards = []"
   ]
  },
  {
   "cell_type": "code",
   "execution_count": null,
   "metadata": {},
   "outputs": [],
   "source": [
    "# For life or until learning is stopped\n",
    "for episode in range(total_episodes):\n",
    "    \n",
    "    # reset environment\n",
    "    state = env.reset() \n",
    "    \n",
    "    step = 0\n",
    "    \n",
    "    done = False\n",
    "    \n",
    "    total_rewards = 0\n",
    "    \n",
    "    for step in range(max_steps):\n",
    "        '''\n",
    "        Choose action [a] in current world state [s]\n",
    "        '''\n",
    "        # Randomize a number\n",
    "        explore_exploit_tradeoff = random.uniform(0,1)\n",
    "        \n",
    "        '''\n",
    "        if number > epsilon, EXPLOIT (take biggest Q)\n",
    "        '''"
   ]
  },
  {
   "cell_type": "markdown",
   "metadata": {},
   "source": [
    "## 5. Play the language-learning (semantic grounding) game\n",
    "\n",
    "* This language-learning game is only semantic grounding in this sense, b/c that is the ONE thing we are attending to with the robot [rather than trying to infer SHADES of meaning; ]"
   ]
  },
  {
   "cell_type": "markdown",
   "metadata": {},
   "source": []
  },
  {
   "cell_type": "markdown",
   "metadata": {},
   "source": []
  }
 ],
 "metadata": {
  "kernelspec": {
   "display_name": "Python 3",
   "language": "python",
   "name": "python3"
  },
  "language_info": {
   "codemirror_mode": {
    "name": "ipython",
    "version": 3
   },
   "file_extension": ".py",
   "mimetype": "text/x-python",
   "name": "python",
   "nbconvert_exporter": "python",
   "pygments_lexer": "ipython3",
   "version": "3.7.4"
  }
 },
 "nbformat": 4,
 "nbformat_minor": 2
}

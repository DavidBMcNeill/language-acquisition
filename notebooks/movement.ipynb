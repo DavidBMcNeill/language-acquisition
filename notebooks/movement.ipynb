{
 "cells": [
  {
   "cell_type": "markdown",
   "metadata": {},
   "source": [
    "# find (+follow) face"
   ]
  },
  {
   "cell_type": "code",
   "execution_count": 1,
   "metadata": {},
   "outputs": [
    {
     "name": "stderr",
     "output_type": "stream",
     "text": [
      "Using Theano backend.\n",
      "WARNING (theano.tensor.blas): Using NumPy C-API based implementation for BLAS functions.\n",
      "/home/david/anaconda3/envs/cozmo/lib/python3.7/site-packages/keras/utils/conv_utils.py:82: FutureWarning: Using a non-tuple sequence for multidimensional indexing is deprecated; use `arr[tuple(seq)]` instead of `arr[seq]`. In the future this will be interpreted as an array index, `arr[np.array(seq)]`, which will result either in an error or a different result.\n",
      "  return np.copy(kernel[slices])\n"
     ]
    }
   ],
   "source": [
    "import sys\n",
    "# customize path according to where sdk repo is in your system\n",
    "sdk_path = '/home/david/GIT/cozmo-python-sdk/examples/tutorials/03_vision/'\n",
    "sys.path.append(sdk_path)\n",
    "from face_follow import follow_faces"
   ]
  },
  {
   "cell_type": "code",
   "execution_count": 2,
   "metadata": {},
   "outputs": [],
   "source": [
    "sys.path.append('/home/david/GIT/cozmo-python-sdk/')\n",
    "sys.path.append('/home/david/GIT/cozmo-python-sdk/src')\n",
    "sys.path.append('/home/david/GIT/cozmo-python-sdk/src/cozmo')\n",
    "from src import cozmo"
   ]
  },
  {
   "cell_type": "code",
   "execution_count": 3,
   "metadata": {},
   "outputs": [],
   "source": [
    "# cozmo.run_program(follow_faces, use_viewer=True, force_viewer_on_top=True)"
   ]
  },
  {
   "cell_type": "markdown",
   "metadata": {},
   "source": [
    "# find object"
   ]
  },
  {
   "cell_type": "markdown",
   "metadata": {},
   "source": [
    "* How to get bounding box from stream. \n",
    "\n",
    "One at a time. \n",
    "\n",
    "Don't use a thread?\n",
    "\n",
    "* How to make it discrete?"
   ]
  },
  {
   "cell_type": "code",
   "execution_count": 4,
   "metadata": {},
   "outputs": [],
   "source": [
    "behavior='LookAroundInPlace'\n",
    "be_id=6\n",
    "\n",
    "face_be='FindFaces'\n",
    "faceBe_id=1"
   ]
  },
  {
   "cell_type": "code",
   "execution_count": 5,
   "metadata": {},
   "outputs": [],
   "source": [
    "sys.path.append('/home/david/GIT/language-acquisition/')"
   ]
  },
  {
   "cell_type": "code",
   "execution_count": 7,
   "metadata": {},
   "outputs": [],
   "source": [
    "import time\n",
    "from classes.vision import Vision\n",
    "\n",
    "def take_picture(robot):\n",
    "    look = Sight(robot)\n",
    "    robot.set_lift_height(1.0).wait_for_completed()\n",
    "    robot.set_head_angle(cozmo.robot.MIN_HEAD_ANGLE).wait_for_completed()\n",
    "    exposure_amount = 0.1 # Range: [0,1]\n",
    "    gain_amount = 1.0 # Range: [0,1]\n",
    "    color = False\n",
    "    look.configure_camera(robot, exposure_amount, gain_amount, color)    \n",
    "    robot.camera.color_image_enabled = True\n",
    "    robot.camera.image_stream_enabled = True\n",
    "    latest_image = robot.world.latest_image\n",
    "    if latest_image is not None:\n",
    "        annotated = latest_image.annotate_image()\n",
    "        print(\"image = %s\" % latest_image)\n",
    "        print('Detect object? (y for yes, s for skip):')\n",
    "        response = input()\n",
    "        if response.strip() == 'y':\n",
    "            annotated = latest_image.annotate_image()\n",
    "            print('annotated type',type(annotated))\n",
    "            obj = look.disc_detect_obj(annotated)\n",
    "    return obj"
   ]
  },
  {
   "cell_type": "code",
   "execution_count": 9,
   "metadata": {},
   "outputs": [],
   "source": [
    "from classes.vision import Vision\n",
    "from matplotlib import pyplot as plt\n",
    "from PIL import Image\n",
    "import datetime\n",
    "import cv2\n",
    "import numpy as np\n",
    "\n",
    "from src.cozmo.util import degrees, Angle, distance_mm, speed_mmps\n",
    "\n",
    "def cozmo_program(robot: cozmo.robot.Robot):\n",
    "    robot.clear_idle_animation()\n",
    "    x_centered = False\n",
    "    y_centered = False\n",
    "    while not x_centered and not y_centered:\n",
    "        obj = take_picture(robot)\n",
    "        boxes = obj['detection_boxes']    \n",
    "        go_box = boxes[0]\n",
    "#         print('box in question',go_box)\n",
    "        ymin = go_box[0]\n",
    "        ymax = go_box[1]\n",
    "        xmin = go_box[2]\n",
    "        xmax = go_box[3]\n",
    "        x_center = ((xmax - xmin)/2)+xmin\n",
    "        y_center = ((ymax - ymin)/2)+ymin\n",
    "        print(y_center, x_center)\n",
    "        turn_dir = 10\n",
    "        drive_dir = 10\n",
    "        if x_center > 0.5: # TURN right --> (+)\n",
    "            turn_dir*=-1\n",
    "        if y_center > 0.5: # MOVE backwards\n",
    "            drive_dir*=-1\n",
    "        robot.turn_in_place(degrees(turn_dir)).wait_for_completed()\n",
    "        robot.drive_straight(distance_mm(drive_dir), speed_mmps(20)).wait_for_completed()\n",
    "        robot.wait_for_all_actions_completed()\n",
    "        \n",
    "    print(\"Oriented to object!\")\n",
    "    robot.wait_for_all_actions_completed()"
   ]
  },
  {
   "cell_type": "code",
   "execution_count": null,
   "metadata": {},
   "outputs": [
    {
     "name": "stdout",
     "output_type": "stream",
     "text": [
      "WARNING:tensorflow:From /home/david/GIT/language-acquisition/classes/mask_rcnn.py:90: The name tf.GraphDef is deprecated. Please use tf.compat.v1.GraphDef instead.\n",
      "\n",
      "WARNING:tensorflow:From /home/david/GIT/language-acquisition/classes/mask_rcnn.py:32: The name tf.ConfigProto is deprecated. Please use tf.compat.v1.ConfigProto instead.\n",
      "\n",
      "WARNING:tensorflow:From /home/david/anaconda3/envs/cozmo/lib/python3.7/site-packages/tensorflow/models/research/object_detection/utils/label_map_util.py:137: The name tf.gfile.GFile is deprecated. Please use tf.io.gfile.GFile instead.\n",
      "\n",
      "Detect Images started\n"
     ]
    },
    {
     "name": "stderr",
     "output_type": "stream",
     "text": [
      "2019-10-21 11:20:59,593 cozmo.general INFO     App connection established. sdk_version=1.4.11.dev0 cozmoclad_version=3.4.0 app_build_version=00003.00004.00000\n",
      "2019-10-21 11:20:59,656 cozmo.general INFO     Found robot id=1\n",
      "2019-10-21 11:20:59,769 cozmo.general INFO     Connected to Android device serial=03160355293b2004\n",
      "2019-10-21 11:20:59,875 cozmo.general INFO     Robot id=1 serial=024086a7 initialized OK\n"
     ]
    }
   ],
   "source": [
    "import threading\n",
    "from classes.vision import Vision\n",
    "\n",
    "second_look = Vision(cozmo.robot.Robot)\n",
    "\n",
    "threading.Thread(target=second_look.detectImages).start()\n",
    "\n",
    "cozmo.run_program(cozmo_program, use_viewer=False)"
   ]
  },
  {
   "cell_type": "markdown",
   "metadata": {},
   "source": [
    "_____"
   ]
  },
  {
   "cell_type": "code",
   "execution_count": null,
   "metadata": {},
   "outputs": [],
   "source": [
    "\n",
    "# l_d = xmin\n",
    "# r_d = 1.0 - xmax \n",
    "# t_d = ymin\n",
    "# b_d = 1.0 - ymax\n",
    "# print('current head angle?', robot._head_angle)\n",
    "# if r_d > l_d:\n",
    "#     # MOVE HEAD LEFT\n",
    "#     # move 1/2 * r_d\n",
    "\n",
    "# else:\n",
    "#     # MOVE HEAD RIGHT\n",
    "#     # move head 1/2 * l_d\n",
    "\n",
    "# if b_d > t_d:\n",
    "#     # MOVE HEAD UP\n",
    "#     # move head 1/2 * b_d\n",
    "\n",
    "# else:\n",
    "#     # MOVE HEAD DOWN\n",
    "#     # move head 1/2 * t_d   "
   ]
  },
  {
   "cell_type": "code",
   "execution_count": null,
   "metadata": {},
   "outputs": [],
   "source": [
    "def test_box(box):\n",
    "    vis_util.visualize_boxes_and_labels_on_image_array(\n",
    "            image_np,\n",
    "            box['detection_boxes'],\n",
    "            box['detection_classes'],\n",
    "            box['detection_scores'],\n",
    "            category_index,\n",
    "#           instance_masks=output_dict.get('detection_masks'),\n",
    "            use_normalized_coordinates=True,\n",
    "            min_score_thresh=.10,\n",
    "            line_thickness=8)"
   ]
  },
  {
   "cell_type": "markdown",
   "metadata": {},
   "source": [
    "________________________"
   ]
  },
  {
   "cell_type": "code",
   "execution_count": null,
   "metadata": {},
   "outputs": [],
   "source": [
    "import sys\n",
    "sys.path.append('/home/david/GIT/language-acquisition')\n",
    "from language_acquisition import cozmo_program\n",
    "# look = Sight(robot)"
   ]
  },
  {
   "cell_type": "markdown",
   "metadata": {},
   "source": []
  },
  {
   "cell_type": "code",
   "execution_count": null,
   "metadata": {},
   "outputs": [],
   "source": [
    "def turn_towards_face(self, face, in_parallel=False, num_retries=0):\n",
    "    '''Tells Cozmo to turn towards this face.\n",
    "\n",
    "    Args:\n",
    "        face: (:class:`cozmo.faces.Face`): The face Cozmo will turn towards.\n",
    "        in_parallel (bool): True to run this action in parallel with\n",
    "            previous actions, False to require that all previous actions\n",
    "            be already complete.\n",
    "        num_retries (int): Number of times to retry the action if the\n",
    "            previous attempt(s) failed.\n",
    "    Returns:\n",
    "        A :class:`cozmo.robot.TurnTowardsFace` action object which can be\n",
    "            queried to see when it is complete\n",
    "    '''\n",
    "    action = self.turn_towards_face_factory(face=face,\n",
    "            conn=self.conn, robot=self, dispatch_parent=self)\n",
    "    self._action_dispatcher._send_single_action(action,\n",
    "                                                in_parallel=in_parallel,\n",
    "                                                num_retries=num_retries)\n",
    "    return action"
   ]
  },
  {
   "cell_type": "code",
   "execution_count": null,
   "metadata": {},
   "outputs": [],
   "source": [
    "def turn_towards_object(self, obj, in_parallel=False, num_retries=0):\n",
    "     '''Tells Cozmo to turn towards that object.\n",
    "\n",
    "    Args:\n",
    "        obj: (...`): The object Cozmo will turn towards.\n",
    "        in_parallel (bool): True to run this action in parallel with\n",
    "            previous actions, False to require that all previous actions\n",
    "            be already complete.\n",
    "        num_retries (int): Number of times to retry the action if the\n",
    "            previous attempt(s) failed.\n",
    "    Returns:\n",
    "        A :class:`cozmo.robot.TurnTowardsFace` action object which can be\n",
    "            queried to see when it is complete\n",
    "    '''\n",
    "    action = self.turn_towards_face_factory(face=face,\n",
    "            conn=self.conn, robot=self, dispatch_parent=self)\n",
    "    self._action_dispatcher._send_single_action(action,\n",
    "                                                in_parallel=in_parallel,\n",
    "                                                num_retries=num_retries)\n",
    "    return action"
   ]
  },
  {
   "cell_type": "code",
   "execution_count": null,
   "metadata": {},
   "outputs": [],
   "source": [
    "import asyncio\n",
    "import time"
   ]
  },
  {
   "cell_type": "code",
   "execution_count": null,
   "metadata": {},
   "outputs": [],
   "source": [
    "# find that code that commanded Cozmo to \"trundle\" in search of bounding box\n",
    "\n",
    "obj = None\n",
    "\n",
    "while not obj:\n",
    "    # roll wheels; one more than the other. \n",
    "    robot.\n",
    "    \n",
    "    try:\n",
    "        # sweep head medium to down; \n",
    "        \n",
    "        # drive in circles;\n",
    "        \n",
    "        # avoid edges\n",
    "        \n",
    "    # move head DOWN and lift UP\n",
    "        if bounding_box:\n",
    "            print(\"Found object!\")\n",
    "            obj = bounding_box\n",
    "            robot.wait_for_all_actions_completed()\n",
    "    except asyncio.TimeoutError:\n",
    "        print(\"Didn't find an object - exiting!\")\n",
    "        return\n",
    "    \n",
    "    time.sleep(.1)\n",
    "    "
   ]
  },
  {
   "cell_type": "markdown",
   "metadata": {},
   "source": [
    "### select biggest bounding box"
   ]
  },
  {
   "cell_type": "code",
   "execution_count": null,
   "metadata": {},
   "outputs": [],
   "source": []
  },
  {
   "cell_type": "markdown",
   "metadata": {},
   "source": [
    "### re-orient"
   ]
  },
  {
   "cell_type": "markdown",
   "metadata": {},
   "source": [
    "target_object (:class:`cozmo.objects.LightCube`): The cube to roll.\n",
    "\n",
    "target_object (:class:`cozmo.objects.ObservableObject`): The destination object. CustomObject instances are not supported.   "
   ]
  },
  {
   "cell_type": "code",
   "execution_count": null,
   "metadata": {},
   "outputs": [],
   "source": []
  },
  {
   "cell_type": "markdown",
   "metadata": {},
   "source": [
    "*What is \"**kw\"?*"
   ]
  },
  {
   "cell_type": "code",
   "execution_count": null,
   "metadata": {},
   "outputs": [],
   "source": [
    "class FixedCustomObject():\n",
    "    '''A fixed object defined by the SDK. It is given a pose and x,y,z sizes.\n",
    "\n",
    "    This object cannot be observed by the robot so its pose never changes.\n",
    "    The position is static in Cozmo's world view; once instantiated, these\n",
    "    objects never move. This could be used to make Cozmo aware of objects and\n",
    "    know to plot a path around them even when they don't have any markers.\n",
    "    \n",
    "    To create these use :meth:`~cozmo.world.World.create_custom_fixed_object`\n",
    "    '''\n",
    "\n",
    "    is_visible = False\n",
    "\n",
    "    def __init__(self, pose, x_size_mm, y_size_mm, z_size_mm, object_id, *a, **kw):\n",
    "        super().__init__(*a, **kw)\n",
    "        self._pose = pose\n",
    "        self._object_id = object_id\n",
    "        self._x_size_mm = x_size_mm\n",
    "        self._y_size_mm = y_size_mm\n",
    "        self._z_size_mm = z_size_mm\n",
    "\n",
    "    def __repr__(self):\n",
    "        return ('<%s pose=%s object_id=%d x_size_mm=%.1f y_size_mm=%.1f z_size_mm=%.1f=>' %\n",
    "                                        (self.__class__.__name__, self.pose, self.object_id,\n",
    "                                         self.x_size_mm, self.y_size_mm, self.z_size_mm))\n",
    "\n",
    "    #### Private Methods ####\n",
    "    #### Event Wrappers ####\n",
    "    #### Properties ####\n",
    "    @property\n",
    "    def object_id(self):\n",
    "        '''int: The internal ID assigned to the object.\n",
    "\n",
    "        This value can only be assigned once as it is static in the engine.\n",
    "        '''\n",
    "        return self._object_id\n",
    "\n",
    "    @object_id.setter\n",
    "    def object_id(self, value):\n",
    "        if self._object_id is not None:\n",
    "            raise ValueError(\"Cannot change object ID once set (from %s to %s)\" % (self._object_id, value))\n",
    "        logger.debug(\"Updated object_id for %s from %s to %s\", self.__class__, self._object_id, value)\n",
    "        self._object_id = value\n",
    "\n",
    "    @property\n",
    "    def pose(self):\n",
    "        ''':class:`cozmo.util.Pose`: The pose of the object in the world.'''\n",
    "        return self._pose\n",
    "\n",
    "    @property\n",
    "    def x_size_mm(self):\n",
    "        '''float: The length of the object in its X axis, in millimeters.'''\n",
    "        return self._x_size_mm\n",
    "\n",
    "    @property\n",
    "    def y_size_mm(self):\n",
    "        '''float: The length of the object in its Y axis, in millimeters.'''\n",
    "        return self._y_size_mm\n",
    "\n",
    "    @property\n",
    "    def z_size_mm(self):\n",
    "        '''float: The length of the object in its Z axis, in millimeters.'''\n",
    "        return self._z_size_mm"
   ]
  }
 ],
 "metadata": {
  "kernelspec": {
   "display_name": "Python 3",
   "language": "python",
   "name": "python3"
  },
  "language_info": {
   "codemirror_mode": {
    "name": "ipython",
    "version": 3
   },
   "file_extension": ".py",
   "mimetype": "text/x-python",
   "name": "python",
   "nbconvert_exporter": "python",
   "pygments_lexer": "ipython3",
   "version": "3.7.4"
  }
 },
 "nbformat": 4,
 "nbformat_minor": 2
}

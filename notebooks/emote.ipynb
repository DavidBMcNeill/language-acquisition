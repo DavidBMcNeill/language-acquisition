{
 "cells": [
  {
   "cell_type": "markdown",
   "metadata": {},
   "source": [
    "# Animation names taken... \n",
    "... from the repo 'valence-affect/batch2/both-batch-analysis.ipynb', cell [96]"
   ]
  },
  {
   "cell_type": "code",
   "execution_count": 1,
   "metadata": {},
   "outputs": [],
   "source": [
    "understanding_anims = [('anim_energy_cubeshakelvl1_03', 'aBov1khHOMw', 6),\n",
    " ('anim_reacttocliff_pickup_01', 'nGGheI60fPM', 7),\n",
    " ('anim_fistbump_success_02', 'ILgKYsZfd2U', 8),\n",
    " ('anim_rtpmemorymatch_yes_01', 'QliwkU0oAdU', 8),\n",
    " ('anim_workout_mediumenergy_getready_01', '07rmab3ic70', 8),\n",
    " ('anim_explorer_huh_01_head_angle_10', 'Y9d_LGO7IWE', 9),\n",
    " ('anim_rtpmemorymatch_yes_02', 'CSmmqCly6P8', 9),\n",
    " ('anim_freeplay_reacttoface_identified_03_head_angle_40', '5tg4OFo7KOk', 10),\n",
    " ('anim_freeplay_reacttoface_identified_01_head_angle_40', 'o4-BzbvJXws', 10),\n",
    " ('anim_cozmosings_100_song_01', 'Rivzzp9UhqE', 10),\n",
    " ('anim_workout_highenergy_getready_01', 'B_I9y_tb0jY', 10)]"
   ]
  },
  {
   "cell_type": "code",
   "execution_count": 2,
   "metadata": {},
   "outputs": [],
   "source": [
    "confusion_anims = [('anim_dizzy_reaction_soft_02', '9DAaXwinFdg', 24),\n",
    " ('anim_dizzy_reaction_medium_03', '9gwXd4VCK4o', 24),\n",
    " ('anim_dizzy_shake_stop_01', '6fE-4vv7g6U', 24),\n",
    " ('anim_keepaway_fakeout_02', 'MX6RrSHrv6E', 23),\n",
    " ('anim_dizzy_reaction_medium_01', 'uCnRvN8LChg', 23),\n",
    " ('anim_dizzy_reaction_medium_02', '43lIwWW0a6w', 22),\n",
    " ('anim_workout_lowenergy_getout_01', 'Mvy-MU80z48', 21),\n",
    " ('anim_launch_firsttimewakeup_helloplayer_head_angle_-20', 'GSNeqfQMN7Q', 20),\n",
    " ('anim_keepalive_eyesonly_loop_02', 'fpliwsnS5BA', 20),\n",
    " ('anim_energy_idlel2_05', 'xmf7RGlJanM', 20),\n",
    " ('anim_dizzy_reaction_soft_03', 'wW6irtD-vTs', 20)]"
   ]
  },
  {
   "cell_type": "code",
   "execution_count": 3,
   "metadata": {},
   "outputs": [],
   "source": [
    "import random\n",
    "\n",
    "def emote_confusion():\n",
    "    return random.choice(confusion_anims)\n",
    "    \n",
    "def emote_understanding():\n",
    "    return random.choice(understanding_anims)\n",
    "\n",
    "def emote(i):\n",
    "    display = ''\n",
    "    if i == 0:\n",
    "        display = emote_confusion()\n",
    "    else:\n",
    "        display = emote_understanding()\n",
    "    return display"
   ]
  },
  {
   "cell_type": "code",
   "execution_count": 4,
   "metadata": {},
   "outputs": [
    {
     "name": "stderr",
     "output_type": "stream",
     "text": [
      "Using Theano backend.\n",
      "WARNING (theano.tensor.blas): Using NumPy C-API based implementation for BLAS functions.\n",
      "/home/david/anaconda3/envs/cozmo/lib/python3.7/site-packages/keras/utils/conv_utils.py:82: FutureWarning: Using a non-tuple sequence for multidimensional indexing is deprecated; use `arr[tuple(seq)]` instead of `arr[seq]`. In the future this will be interpreted as an array index, `arr[np.array(seq)]`, which will result either in an error or a different result.\n",
      "  return np.copy(kernel[slices])\n"
     ]
    }
   ],
   "source": [
    "import datetime\n",
    "import sys\n",
    "sys.path.append('/home/david/GIT/cozmo-python-sdk/')\n",
    "sys.path.append('/home/david/GIT/cozmo-python-sdk/src')\n",
    "sys.path.append('/home/david/GIT/cozmo-python-sdk/src/cozmo')\n",
    "\n",
    "from src.cozmo.util import degrees, Angle, distance_mm, speed_mmps\n",
    "from src import cozmo\n",
    "\n",
    "def cozmo_program(robot: cozmo.robot.Robot):\n",
    "    valence = random.choice([0,1])\n",
    "    \n",
    "    if valence == 0:\n",
    "        print('confused')\n",
    "    else:\n",
    "        print('understanding')\n",
    "    \n",
    "    display = emote(valence)\n",
    "    print(display)\n",
    "    robot.play_anim(display[0]).wait_for_completed()"
   ]
  },
  {
   "cell_type": "code",
   "execution_count": 11,
   "metadata": {},
   "outputs": [
    {
     "name": "stderr",
     "output_type": "stream",
     "text": [
      "2019-11-06 12:09:21,783 cozmo.general INFO     App connection established. sdk_version=1.4.11.dev0 cozmoclad_version=3.4.0 app_build_version=00003.00004.00000\n",
      "2019-11-06 12:09:21,783 cozmo.general INFO     App connection established. sdk_version=1.4.11.dev0 cozmoclad_version=3.4.0 app_build_version=00003.00004.00000\n",
      "2019-11-06 12:09:21,783 cozmo.general INFO     App connection established. sdk_version=1.4.11.dev0 cozmoclad_version=3.4.0 app_build_version=00003.00004.00000\n",
      "2019-11-06 12:09:21,783 cozmo.general INFO     App connection established. sdk_version=1.4.11.dev0 cozmoclad_version=3.4.0 app_build_version=00003.00004.00000\n",
      "2019-11-06 12:09:21,783 cozmo.general INFO     App connection established. sdk_version=1.4.11.dev0 cozmoclad_version=3.4.0 app_build_version=00003.00004.00000\n",
      "2019-11-06 12:09:21,783 cozmo.general INFO     App connection established. sdk_version=1.4.11.dev0 cozmoclad_version=3.4.0 app_build_version=00003.00004.00000\n",
      "2019-11-06 12:09:21,783 cozmo.general INFO     App connection established. sdk_version=1.4.11.dev0 cozmoclad_version=3.4.0 app_build_version=00003.00004.00000\n",
      "2019-11-06 12:09:21,786 cozmo.general INFO     Found robot id=1\n",
      "2019-11-06 12:09:21,786 cozmo.general INFO     Found robot id=1\n",
      "2019-11-06 12:09:21,786 cozmo.general INFO     Found robot id=1\n",
      "2019-11-06 12:09:21,786 cozmo.general INFO     Found robot id=1\n",
      "2019-11-06 12:09:21,786 cozmo.general INFO     Found robot id=1\n",
      "2019-11-06 12:09:21,786 cozmo.general INFO     Found robot id=1\n",
      "2019-11-06 12:09:21,786 cozmo.general INFO     Found robot id=1\n",
      "2019-11-06 12:09:21,791 cozmo.general INFO     Connected to Android device serial=ZY223325P4\n",
      "2019-11-06 12:09:21,791 cozmo.general INFO     Connected to Android device serial=ZY223325P4\n",
      "2019-11-06 12:09:21,791 cozmo.general INFO     Connected to Android device serial=ZY223325P4\n",
      "2019-11-06 12:09:21,791 cozmo.general INFO     Connected to Android device serial=ZY223325P4\n",
      "2019-11-06 12:09:21,791 cozmo.general INFO     Connected to Android device serial=ZY223325P4\n",
      "2019-11-06 12:09:21,791 cozmo.general INFO     Connected to Android device serial=ZY223325P4\n",
      "2019-11-06 12:09:21,791 cozmo.general INFO     Connected to Android device serial=ZY223325P4\n",
      "2019-11-06 12:09:21,934 cozmo.general INFO     Robot id=1 serial=024086a7 initialized OK\n",
      "2019-11-06 12:09:21,934 cozmo.general INFO     Robot id=1 serial=024086a7 initialized OK\n",
      "2019-11-06 12:09:21,934 cozmo.general INFO     Robot id=1 serial=024086a7 initialized OK\n",
      "2019-11-06 12:09:21,934 cozmo.general INFO     Robot id=1 serial=024086a7 initialized OK\n",
      "2019-11-06 12:09:21,934 cozmo.general INFO     Robot id=1 serial=024086a7 initialized OK\n",
      "2019-11-06 12:09:21,934 cozmo.general INFO     Robot id=1 serial=024086a7 initialized OK\n",
      "2019-11-06 12:09:21,934 cozmo.general INFO     Robot id=1 serial=024086a7 initialized OK\n"
     ]
    },
    {
     "name": "stdout",
     "output_type": "stream",
     "text": [
      "understanding\n",
      "('anim_cozmosings_100_song_01', 'Rivzzp9UhqE', 10)\n"
     ]
    },
    {
     "name": "stderr",
     "output_type": "stream",
     "text": [
      "2019-11-06 12:09:32,542 cozmo.general INFO     Shutting down connection\n",
      "2019-11-06 12:09:32,542 cozmo.general INFO     Shutting down connection\n",
      "2019-11-06 12:09:32,542 cozmo.general INFO     Shutting down connection\n",
      "2019-11-06 12:09:32,542 cozmo.general INFO     Shutting down connection\n",
      "2019-11-06 12:09:32,542 cozmo.general INFO     Shutting down connection\n",
      "2019-11-06 12:09:32,542 cozmo.general INFO     Shutting down connection\n",
      "2019-11-06 12:09:32,542 cozmo.general INFO     Shutting down connection\n",
      "2019-11-06 12:09:32,550 cozmo.general INFO     Android serial=ZY223325P4 disconnected.\n",
      "2019-11-06 12:09:32,550 cozmo.general INFO     Android serial=ZY223325P4 disconnected.\n",
      "2019-11-06 12:09:32,550 cozmo.general INFO     Android serial=ZY223325P4 disconnected.\n",
      "2019-11-06 12:09:32,550 cozmo.general INFO     Android serial=ZY223325P4 disconnected.\n",
      "2019-11-06 12:09:32,550 cozmo.general INFO     Android serial=ZY223325P4 disconnected.\n",
      "2019-11-06 12:09:32,550 cozmo.general INFO     Android serial=ZY223325P4 disconnected.\n",
      "2019-11-06 12:09:32,550 cozmo.general INFO     Android serial=ZY223325P4 disconnected.\n"
     ]
    }
   ],
   "source": [
    "cozmo.run_program(cozmo_program, use_viewer=False)"
   ]
  },
  {
   "cell_type": "code",
   "execution_count": null,
   "metadata": {},
   "outputs": [],
   "source": []
  }
 ],
 "metadata": {
  "kernelspec": {
   "display_name": "Python 3",
   "language": "python",
   "name": "python3"
  },
  "language_info": {
   "codemirror_mode": {
    "name": "ipython",
    "version": 3
   },
   "file_extension": ".py",
   "mimetype": "text/x-python",
   "name": "python",
   "nbconvert_exporter": "python",
   "pygments_lexer": "ipython3",
   "version": "3.7.4"
  }
 },
 "nbformat": 4,
 "nbformat_minor": 2
}
